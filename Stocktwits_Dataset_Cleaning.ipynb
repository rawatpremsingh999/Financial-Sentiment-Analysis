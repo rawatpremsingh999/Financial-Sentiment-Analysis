{
 "cells": [
  {
   "cell_type": "code",
   "execution_count": 1,
   "metadata": {},
   "outputs": [],
   "source": [
    "import pandas as pd"
   ]
  },
  {
   "cell_type": "code",
   "execution_count": 2,
   "metadata": {},
   "outputs": [],
   "source": [
    "df = pd.read_csv(\"/home/prem/Documents/Modelling in operational management/stocktwits_scraped4.csv\")"
   ]
  },
  {
   "cell_type": "code",
   "execution_count": 3,
   "metadata": {},
   "outputs": [
    {
     "data": {
      "text/html": [
       "<div>\n",
       "<style scoped>\n",
       "    .dataframe tbody tr th:only-of-type {\n",
       "        vertical-align: middle;\n",
       "    }\n",
       "\n",
       "    .dataframe tbody tr th {\n",
       "        vertical-align: top;\n",
       "    }\n",
       "\n",
       "    .dataframe thead th {\n",
       "        text-align: right;\n",
       "    }\n",
       "</style>\n",
       "<table border=\"1\" class=\"dataframe\">\n",
       "  <thead>\n",
       "    <tr style=\"text-align: right;\">\n",
       "      <th></th>\n",
       "      <th>symbol</th>\n",
       "      <th>sentiment</th>\n",
       "      <th>message</th>\n",
       "      <th>datetime</th>\n",
       "      <th>user</th>\n",
       "      <th>username</th>\n",
       "      <th>userfollowers</th>\n",
       "      <th>user_likecount</th>\n",
       "      <th>message_id</th>\n",
       "      <th>message_likes</th>\n",
       "    </tr>\n",
       "  </thead>\n",
       "  <tbody>\n",
       "    <tr>\n",
       "      <th>0</th>\n",
       "      <td>TWTR</td>\n",
       "      <td>Bullish</td>\n",
       "      <td>PayPal Might Be Interest In BitGo And Paxos \\n...</td>\n",
       "      <td>2020-10-26T22:35:59Z</td>\n",
       "      <td>1487466</td>\n",
       "      <td>ETNMAN</td>\n",
       "      <td>12</td>\n",
       "      <td>179</td>\n",
       "      <td>252628590</td>\n",
       "      <td>NaN</td>\n",
       "    </tr>\n",
       "    <tr>\n",
       "      <th>1</th>\n",
       "      <td>TWTR</td>\n",
       "      <td>Bullish</td>\n",
       "      <td>$SPOT $GOOGL $TWTR $AMZN .</td>\n",
       "      <td>2020-10-26T22:32:24Z</td>\n",
       "      <td>748375</td>\n",
       "      <td>FlynancialAnalyst</td>\n",
       "      <td>6914</td>\n",
       "      <td>38315</td>\n",
       "      <td>252628038</td>\n",
       "      <td>NaN</td>\n",
       "    </tr>\n",
       "    <tr>\n",
       "      <th>2</th>\n",
       "      <td>TWTR</td>\n",
       "      <td>Bullish</td>\n",
       "      <td>$TWTR Fill that gap at $51 and it could get in...</td>\n",
       "      <td>2020-10-26T21:12:08Z</td>\n",
       "      <td>4233873</td>\n",
       "      <td>PaperTradeNation</td>\n",
       "      <td>2</td>\n",
       "      <td>0</td>\n",
       "      <td>252615252</td>\n",
       "      <td>NaN</td>\n",
       "    </tr>\n",
       "    <tr>\n",
       "      <th>3</th>\n",
       "      <td>TWTR</td>\n",
       "      <td>Bullish</td>\n",
       "      <td>$TWTR (delayed) Trade ideas: Oct 30 $54 Calls ...</td>\n",
       "      <td>2020-10-26T20:00:03Z</td>\n",
       "      <td>4049970</td>\n",
       "      <td>TheUTradeTeam</td>\n",
       "      <td>772</td>\n",
       "      <td>22</td>\n",
       "      <td>252597426</td>\n",
       "      <td>NaN</td>\n",
       "    </tr>\n",
       "    <tr>\n",
       "      <th>4</th>\n",
       "      <td>TWTR</td>\n",
       "      <td>Bullish</td>\n",
       "      <td>$TWTR buy the dip!</td>\n",
       "      <td>2020-10-26T19:51:12Z</td>\n",
       "      <td>1124832</td>\n",
       "      <td>4ProfitS</td>\n",
       "      <td>197</td>\n",
       "      <td>17655</td>\n",
       "      <td>252594849</td>\n",
       "      <td>NaN</td>\n",
       "    </tr>\n",
       "  </tbody>\n",
       "</table>\n",
       "</div>"
      ],
      "text/plain": [
       "  symbol sentiment                                            message  \\\n",
       "0   TWTR   Bullish  PayPal Might Be Interest In BitGo And Paxos \\n...   \n",
       "1   TWTR   Bullish                         $SPOT $GOOGL $TWTR $AMZN .   \n",
       "2   TWTR   Bullish  $TWTR Fill that gap at $51 and it could get in...   \n",
       "3   TWTR   Bullish  $TWTR (delayed) Trade ideas: Oct 30 $54 Calls ...   \n",
       "4   TWTR   Bullish                                 $TWTR buy the dip!   \n",
       "\n",
       "               datetime     user           username  userfollowers  \\\n",
       "0  2020-10-26T22:35:59Z  1487466             ETNMAN             12   \n",
       "1  2020-10-26T22:32:24Z   748375  FlynancialAnalyst           6914   \n",
       "2  2020-10-26T21:12:08Z  4233873   PaperTradeNation              2   \n",
       "3  2020-10-26T20:00:03Z  4049970      TheUTradeTeam            772   \n",
       "4  2020-10-26T19:51:12Z  1124832           4ProfitS            197   \n",
       "\n",
       "   user_likecount  message_id  message_likes  \n",
       "0             179   252628590            NaN  \n",
       "1           38315   252628038            NaN  \n",
       "2               0   252615252            NaN  \n",
       "3              22   252597426            NaN  \n",
       "4           17655   252594849            NaN  "
      ]
     },
     "execution_count": 3,
     "metadata": {},
     "output_type": "execute_result"
    }
   ],
   "source": [
    "df.head()"
   ]
  },
  {
   "cell_type": "code",
   "execution_count": 4,
   "metadata": {},
   "outputs": [
    {
     "data": {
      "text/html": [
       "<div>\n",
       "<style scoped>\n",
       "    .dataframe tbody tr th:only-of-type {\n",
       "        vertical-align: middle;\n",
       "    }\n",
       "\n",
       "    .dataframe tbody tr th {\n",
       "        vertical-align: top;\n",
       "    }\n",
       "\n",
       "    .dataframe thead th {\n",
       "        text-align: right;\n",
       "    }\n",
       "</style>\n",
       "<table border=\"1\" class=\"dataframe\">\n",
       "  <thead>\n",
       "    <tr style=\"text-align: right;\">\n",
       "      <th></th>\n",
       "      <th>symbol</th>\n",
       "      <th>sentiment</th>\n",
       "      <th>message</th>\n",
       "      <th>datetime</th>\n",
       "      <th>user</th>\n",
       "      <th>username</th>\n",
       "      <th>userfollowers</th>\n",
       "      <th>user_likecount</th>\n",
       "      <th>message_id</th>\n",
       "      <th>message_likes</th>\n",
       "    </tr>\n",
       "  </thead>\n",
       "  <tbody>\n",
       "    <tr>\n",
       "      <th>2077</th>\n",
       "      <td>FB</td>\n",
       "      <td>Bearish</td>\n",
       "      <td>$LYFT $FB Facebook could buy Lyft, and then th...</td>\n",
       "      <td>2019-04-02T22:42:59Z</td>\n",
       "      <td>2314</td>\n",
       "      <td>bearcharts</td>\n",
       "      <td>58798</td>\n",
       "      <td>24729</td>\n",
       "      <td>159305934</td>\n",
       "      <td>NaN</td>\n",
       "    </tr>\n",
       "    <tr>\n",
       "      <th>2078</th>\n",
       "      <td>FB</td>\n",
       "      <td>Bullish</td>\n",
       "      <td>$LTC.X $BTC.X $NVDA $FB $AMD $ATVI $AAPL lol b...</td>\n",
       "      <td>2019-04-02T22:40:07Z</td>\n",
       "      <td>1123123</td>\n",
       "      <td>MrWallStreet09</td>\n",
       "      <td>48</td>\n",
       "      <td>117</td>\n",
       "      <td>159305652</td>\n",
       "      <td>NaN</td>\n",
       "    </tr>\n",
       "    <tr>\n",
       "      <th>2079</th>\n",
       "      <td>FB</td>\n",
       "      <td>Bullish</td>\n",
       "      <td>$FB going to be 180+ before earnings</td>\n",
       "      <td>2019-04-02T22:30:06Z</td>\n",
       "      <td>707843</td>\n",
       "      <td>clays26</td>\n",
       "      <td>118</td>\n",
       "      <td>3595</td>\n",
       "      <td>159304834</td>\n",
       "      <td>NaN</td>\n",
       "    </tr>\n",
       "    <tr>\n",
       "      <th>2080</th>\n",
       "      <td>FB</td>\n",
       "      <td>Bullish</td>\n",
       "      <td>$FB **Yawn**  Wake me if something happens.</td>\n",
       "      <td>2019-04-02T22:28:49Z</td>\n",
       "      <td>335573</td>\n",
       "      <td>Checklist</td>\n",
       "      <td>108</td>\n",
       "      <td>1851</td>\n",
       "      <td>159304729</td>\n",
       "      <td>NaN</td>\n",
       "    </tr>\n",
       "    <tr>\n",
       "      <th>2081</th>\n",
       "      <td>FB</td>\n",
       "      <td>Bearish</td>\n",
       "      <td>$SPY \\n\\n$AMZN &amp;amp; $FB at major resistance c...</td>\n",
       "      <td>2019-04-02T22:00:51Z</td>\n",
       "      <td>1808759</td>\n",
       "      <td>psychedlic_trader</td>\n",
       "      <td>98</td>\n",
       "      <td>1279</td>\n",
       "      <td>159302151</td>\n",
       "      <td>NaN</td>\n",
       "    </tr>\n",
       "  </tbody>\n",
       "</table>\n",
       "</div>"
      ],
      "text/plain": [
       "     symbol sentiment                                            message  \\\n",
       "2077     FB   Bearish  $LYFT $FB Facebook could buy Lyft, and then th...   \n",
       "2078     FB   Bullish  $LTC.X $BTC.X $NVDA $FB $AMD $ATVI $AAPL lol b...   \n",
       "2079     FB   Bullish               $FB going to be 180+ before earnings   \n",
       "2080     FB   Bullish        $FB **Yawn**  Wake me if something happens.   \n",
       "2081     FB   Bearish  $SPY \\n\\n$AMZN &amp; $FB at major resistance c...   \n",
       "\n",
       "                  datetime     user           username  userfollowers  \\\n",
       "2077  2019-04-02T22:42:59Z     2314         bearcharts          58798   \n",
       "2078  2019-04-02T22:40:07Z  1123123     MrWallStreet09             48   \n",
       "2079  2019-04-02T22:30:06Z   707843            clays26            118   \n",
       "2080  2019-04-02T22:28:49Z   335573          Checklist            108   \n",
       "2081  2019-04-02T22:00:51Z  1808759  psychedlic_trader             98   \n",
       "\n",
       "      user_likecount  message_id  message_likes  \n",
       "2077           24729   159305934            NaN  \n",
       "2078             117   159305652            NaN  \n",
       "2079            3595   159304834            NaN  \n",
       "2080            1851   159304729            NaN  \n",
       "2081            1279   159302151            NaN  "
      ]
     },
     "execution_count": 4,
     "metadata": {},
     "output_type": "execute_result"
    }
   ],
   "source": [
    "df.tail()"
   ]
  },
  {
   "cell_type": "code",
   "execution_count": 5,
   "metadata": {},
   "outputs": [],
   "source": [
    "#df.iloc[3415]"
   ]
  },
  {
   "cell_type": "code",
   "execution_count": 6,
   "metadata": {},
   "outputs": [
    {
     "name": "stdout",
     "output_type": "stream",
     "text": [
      "<class 'pandas.core.frame.DataFrame'>\n",
      "RangeIndex: 2082 entries, 0 to 2081\n",
      "Data columns (total 10 columns):\n",
      "symbol            2082 non-null object\n",
      "sentiment         2082 non-null object\n",
      "message           2082 non-null object\n",
      "datetime          2082 non-null object\n",
      "user              2082 non-null int64\n",
      "username          2082 non-null object\n",
      "userfollowers     2082 non-null int64\n",
      "user_likecount    2082 non-null int64\n",
      "message_id        2082 non-null int64\n",
      "message_likes     0 non-null float64\n",
      "dtypes: float64(1), int64(4), object(5)\n",
      "memory usage: 162.7+ KB\n"
     ]
    }
   ],
   "source": [
    "df.info()"
   ]
  },
  {
   "cell_type": "code",
   "execution_count": 7,
   "metadata": {},
   "outputs": [
    {
     "name": "stdout",
     "output_type": "stream",
     "text": [
      "1032\n"
     ]
    }
   ],
   "source": [
    "count = 0\n",
    "for row in range(len(df)):\n",
    "    if df.iloc[row,6] >= 50 and df.iloc[row,7] >= 50:\n",
    "        count+=1\n",
    "            \n",
    "print(count)"
   ]
  },
  {
   "cell_type": "code",
   "execution_count": 8,
   "metadata": {},
   "outputs": [],
   "source": [
    "df.drop(columns = ['symbol','user','username','message_id'],inplace=True)"
   ]
  },
  {
   "cell_type": "code",
   "execution_count": 9,
   "metadata": {},
   "outputs": [
    {
     "data": {
      "text/plain": [
       "(2082, 6)"
      ]
     },
     "execution_count": 9,
     "metadata": {},
     "output_type": "execute_result"
    }
   ],
   "source": [
    "df.shape"
   ]
  },
  {
   "cell_type": "code",
   "execution_count": 10,
   "metadata": {},
   "outputs": [
    {
     "data": {
      "text/html": [
       "<div>\n",
       "<style scoped>\n",
       "    .dataframe tbody tr th:only-of-type {\n",
       "        vertical-align: middle;\n",
       "    }\n",
       "\n",
       "    .dataframe tbody tr th {\n",
       "        vertical-align: top;\n",
       "    }\n",
       "\n",
       "    .dataframe thead th {\n",
       "        text-align: right;\n",
       "    }\n",
       "</style>\n",
       "<table border=\"1\" class=\"dataframe\">\n",
       "  <thead>\n",
       "    <tr style=\"text-align: right;\">\n",
       "      <th></th>\n",
       "      <th>sentiment</th>\n",
       "      <th>message</th>\n",
       "      <th>datetime</th>\n",
       "      <th>userfollowers</th>\n",
       "      <th>user_likecount</th>\n",
       "      <th>message_likes</th>\n",
       "    </tr>\n",
       "  </thead>\n",
       "  <tbody>\n",
       "    <tr>\n",
       "      <th>0</th>\n",
       "      <td>Bullish</td>\n",
       "      <td>PayPal Might Be Interest In BitGo And Paxos \\n...</td>\n",
       "      <td>2020-10-26T22:35:59Z</td>\n",
       "      <td>12</td>\n",
       "      <td>179</td>\n",
       "      <td>NaN</td>\n",
       "    </tr>\n",
       "    <tr>\n",
       "      <th>1</th>\n",
       "      <td>Bullish</td>\n",
       "      <td>$SPOT $GOOGL $TWTR $AMZN .</td>\n",
       "      <td>2020-10-26T22:32:24Z</td>\n",
       "      <td>6914</td>\n",
       "      <td>38315</td>\n",
       "      <td>NaN</td>\n",
       "    </tr>\n",
       "    <tr>\n",
       "      <th>2</th>\n",
       "      <td>Bullish</td>\n",
       "      <td>$TWTR Fill that gap at $51 and it could get in...</td>\n",
       "      <td>2020-10-26T21:12:08Z</td>\n",
       "      <td>2</td>\n",
       "      <td>0</td>\n",
       "      <td>NaN</td>\n",
       "    </tr>\n",
       "    <tr>\n",
       "      <th>3</th>\n",
       "      <td>Bullish</td>\n",
       "      <td>$TWTR (delayed) Trade ideas: Oct 30 $54 Calls ...</td>\n",
       "      <td>2020-10-26T20:00:03Z</td>\n",
       "      <td>772</td>\n",
       "      <td>22</td>\n",
       "      <td>NaN</td>\n",
       "    </tr>\n",
       "    <tr>\n",
       "      <th>4</th>\n",
       "      <td>Bullish</td>\n",
       "      <td>$TWTR buy the dip!</td>\n",
       "      <td>2020-10-26T19:51:12Z</td>\n",
       "      <td>197</td>\n",
       "      <td>17655</td>\n",
       "      <td>NaN</td>\n",
       "    </tr>\n",
       "  </tbody>\n",
       "</table>\n",
       "</div>"
      ],
      "text/plain": [
       "  sentiment                                            message  \\\n",
       "0   Bullish  PayPal Might Be Interest In BitGo And Paxos \\n...   \n",
       "1   Bullish                         $SPOT $GOOGL $TWTR $AMZN .   \n",
       "2   Bullish  $TWTR Fill that gap at $51 and it could get in...   \n",
       "3   Bullish  $TWTR (delayed) Trade ideas: Oct 30 $54 Calls ...   \n",
       "4   Bullish                                 $TWTR buy the dip!   \n",
       "\n",
       "               datetime  userfollowers  user_likecount  message_likes  \n",
       "0  2020-10-26T22:35:59Z             12             179            NaN  \n",
       "1  2020-10-26T22:32:24Z           6914           38315            NaN  \n",
       "2  2020-10-26T21:12:08Z              2               0            NaN  \n",
       "3  2020-10-26T20:00:03Z            772              22            NaN  \n",
       "4  2020-10-26T19:51:12Z            197           17655            NaN  "
      ]
     },
     "execution_count": 10,
     "metadata": {},
     "output_type": "execute_result"
    }
   ],
   "source": [
    "df.head()"
   ]
  },
  {
   "cell_type": "code",
   "execution_count": 11,
   "metadata": {},
   "outputs": [],
   "source": [
    "date_list = []\n",
    "for row in range(len(df)):\n",
    "    date_list.append(df.iloc[row,2][:10])\n",
    "\n",
    "df['message_date'] = date_list"
   ]
  },
  {
   "cell_type": "code",
   "execution_count": 12,
   "metadata": {},
   "outputs": [
    {
     "data": {
      "text/html": [
       "<div>\n",
       "<style scoped>\n",
       "    .dataframe tbody tr th:only-of-type {\n",
       "        vertical-align: middle;\n",
       "    }\n",
       "\n",
       "    .dataframe tbody tr th {\n",
       "        vertical-align: top;\n",
       "    }\n",
       "\n",
       "    .dataframe thead th {\n",
       "        text-align: right;\n",
       "    }\n",
       "</style>\n",
       "<table border=\"1\" class=\"dataframe\">\n",
       "  <thead>\n",
       "    <tr style=\"text-align: right;\">\n",
       "      <th></th>\n",
       "      <th>sentiment</th>\n",
       "      <th>message</th>\n",
       "      <th>datetime</th>\n",
       "      <th>userfollowers</th>\n",
       "      <th>user_likecount</th>\n",
       "      <th>message_likes</th>\n",
       "      <th>message_date</th>\n",
       "    </tr>\n",
       "  </thead>\n",
       "  <tbody>\n",
       "    <tr>\n",
       "      <th>0</th>\n",
       "      <td>Bullish</td>\n",
       "      <td>PayPal Might Be Interest In BitGo And Paxos \\n...</td>\n",
       "      <td>2020-10-26T22:35:59Z</td>\n",
       "      <td>12</td>\n",
       "      <td>179</td>\n",
       "      <td>NaN</td>\n",
       "      <td>2020-10-26</td>\n",
       "    </tr>\n",
       "    <tr>\n",
       "      <th>1</th>\n",
       "      <td>Bullish</td>\n",
       "      <td>$SPOT $GOOGL $TWTR $AMZN .</td>\n",
       "      <td>2020-10-26T22:32:24Z</td>\n",
       "      <td>6914</td>\n",
       "      <td>38315</td>\n",
       "      <td>NaN</td>\n",
       "      <td>2020-10-26</td>\n",
       "    </tr>\n",
       "    <tr>\n",
       "      <th>2</th>\n",
       "      <td>Bullish</td>\n",
       "      <td>$TWTR Fill that gap at $51 and it could get in...</td>\n",
       "      <td>2020-10-26T21:12:08Z</td>\n",
       "      <td>2</td>\n",
       "      <td>0</td>\n",
       "      <td>NaN</td>\n",
       "      <td>2020-10-26</td>\n",
       "    </tr>\n",
       "    <tr>\n",
       "      <th>3</th>\n",
       "      <td>Bullish</td>\n",
       "      <td>$TWTR (delayed) Trade ideas: Oct 30 $54 Calls ...</td>\n",
       "      <td>2020-10-26T20:00:03Z</td>\n",
       "      <td>772</td>\n",
       "      <td>22</td>\n",
       "      <td>NaN</td>\n",
       "      <td>2020-10-26</td>\n",
       "    </tr>\n",
       "    <tr>\n",
       "      <th>4</th>\n",
       "      <td>Bullish</td>\n",
       "      <td>$TWTR buy the dip!</td>\n",
       "      <td>2020-10-26T19:51:12Z</td>\n",
       "      <td>197</td>\n",
       "      <td>17655</td>\n",
       "      <td>NaN</td>\n",
       "      <td>2020-10-26</td>\n",
       "    </tr>\n",
       "  </tbody>\n",
       "</table>\n",
       "</div>"
      ],
      "text/plain": [
       "  sentiment                                            message  \\\n",
       "0   Bullish  PayPal Might Be Interest In BitGo And Paxos \\n...   \n",
       "1   Bullish                         $SPOT $GOOGL $TWTR $AMZN .   \n",
       "2   Bullish  $TWTR Fill that gap at $51 and it could get in...   \n",
       "3   Bullish  $TWTR (delayed) Trade ideas: Oct 30 $54 Calls ...   \n",
       "4   Bullish                                 $TWTR buy the dip!   \n",
       "\n",
       "               datetime  userfollowers  user_likecount  message_likes  \\\n",
       "0  2020-10-26T22:35:59Z             12             179            NaN   \n",
       "1  2020-10-26T22:32:24Z           6914           38315            NaN   \n",
       "2  2020-10-26T21:12:08Z              2               0            NaN   \n",
       "3  2020-10-26T20:00:03Z            772              22            NaN   \n",
       "4  2020-10-26T19:51:12Z            197           17655            NaN   \n",
       "\n",
       "  message_date  \n",
       "0   2020-10-26  \n",
       "1   2020-10-26  \n",
       "2   2020-10-26  \n",
       "3   2020-10-26  \n",
       "4   2020-10-26  "
      ]
     },
     "execution_count": 12,
     "metadata": {},
     "output_type": "execute_result"
    }
   ],
   "source": [
    "df.head()"
   ]
  },
  {
   "cell_type": "code",
   "execution_count": 13,
   "metadata": {},
   "outputs": [],
   "source": [
    "df.drop(columns = ['datetime'],inplace=True)"
   ]
  },
  {
   "cell_type": "code",
   "execution_count": 14,
   "metadata": {},
   "outputs": [
    {
     "data": {
      "text/html": [
       "<div>\n",
       "<style scoped>\n",
       "    .dataframe tbody tr th:only-of-type {\n",
       "        vertical-align: middle;\n",
       "    }\n",
       "\n",
       "    .dataframe tbody tr th {\n",
       "        vertical-align: top;\n",
       "    }\n",
       "\n",
       "    .dataframe thead th {\n",
       "        text-align: right;\n",
       "    }\n",
       "</style>\n",
       "<table border=\"1\" class=\"dataframe\">\n",
       "  <thead>\n",
       "    <tr style=\"text-align: right;\">\n",
       "      <th></th>\n",
       "      <th>sentiment</th>\n",
       "      <th>message</th>\n",
       "      <th>userfollowers</th>\n",
       "      <th>user_likecount</th>\n",
       "      <th>message_likes</th>\n",
       "      <th>message_date</th>\n",
       "    </tr>\n",
       "  </thead>\n",
       "  <tbody>\n",
       "    <tr>\n",
       "      <th>0</th>\n",
       "      <td>Bullish</td>\n",
       "      <td>PayPal Might Be Interest In BitGo And Paxos \\n...</td>\n",
       "      <td>12</td>\n",
       "      <td>179</td>\n",
       "      <td>NaN</td>\n",
       "      <td>2020-10-26</td>\n",
       "    </tr>\n",
       "    <tr>\n",
       "      <th>1</th>\n",
       "      <td>Bullish</td>\n",
       "      <td>$SPOT $GOOGL $TWTR $AMZN .</td>\n",
       "      <td>6914</td>\n",
       "      <td>38315</td>\n",
       "      <td>NaN</td>\n",
       "      <td>2020-10-26</td>\n",
       "    </tr>\n",
       "    <tr>\n",
       "      <th>2</th>\n",
       "      <td>Bullish</td>\n",
       "      <td>$TWTR Fill that gap at $51 and it could get in...</td>\n",
       "      <td>2</td>\n",
       "      <td>0</td>\n",
       "      <td>NaN</td>\n",
       "      <td>2020-10-26</td>\n",
       "    </tr>\n",
       "    <tr>\n",
       "      <th>3</th>\n",
       "      <td>Bullish</td>\n",
       "      <td>$TWTR (delayed) Trade ideas: Oct 30 $54 Calls ...</td>\n",
       "      <td>772</td>\n",
       "      <td>22</td>\n",
       "      <td>NaN</td>\n",
       "      <td>2020-10-26</td>\n",
       "    </tr>\n",
       "    <tr>\n",
       "      <th>4</th>\n",
       "      <td>Bullish</td>\n",
       "      <td>$TWTR buy the dip!</td>\n",
       "      <td>197</td>\n",
       "      <td>17655</td>\n",
       "      <td>NaN</td>\n",
       "      <td>2020-10-26</td>\n",
       "    </tr>\n",
       "  </tbody>\n",
       "</table>\n",
       "</div>"
      ],
      "text/plain": [
       "  sentiment                                            message  userfollowers  \\\n",
       "0   Bullish  PayPal Might Be Interest In BitGo And Paxos \\n...             12   \n",
       "1   Bullish                         $SPOT $GOOGL $TWTR $AMZN .           6914   \n",
       "2   Bullish  $TWTR Fill that gap at $51 and it could get in...              2   \n",
       "3   Bullish  $TWTR (delayed) Trade ideas: Oct 30 $54 Calls ...            772   \n",
       "4   Bullish                                 $TWTR buy the dip!            197   \n",
       "\n",
       "   user_likecount  message_likes message_date  \n",
       "0             179            NaN   2020-10-26  \n",
       "1           38315            NaN   2020-10-26  \n",
       "2               0            NaN   2020-10-26  \n",
       "3              22            NaN   2020-10-26  \n",
       "4           17655            NaN   2020-10-26  "
      ]
     },
     "execution_count": 14,
     "metadata": {},
     "output_type": "execute_result"
    }
   ],
   "source": [
    "df.head()"
   ]
  },
  {
   "cell_type": "code",
   "execution_count": 15,
   "metadata": {},
   "outputs": [
    {
     "name": "stdout",
     "output_type": "stream",
     "text": [
      "<class 'pandas.core.frame.DataFrame'>\n",
      "RangeIndex: 2082 entries, 0 to 2081\n",
      "Data columns (total 6 columns):\n",
      "sentiment         2082 non-null object\n",
      "message           2082 non-null object\n",
      "userfollowers     2082 non-null int64\n",
      "user_likecount    2082 non-null int64\n",
      "message_likes     0 non-null float64\n",
      "message_date      2082 non-null object\n",
      "dtypes: float64(1), int64(2), object(3)\n",
      "memory usage: 97.7+ KB\n"
     ]
    }
   ],
   "source": [
    "df.info()"
   ]
  },
  {
   "cell_type": "code",
   "execution_count": 16,
   "metadata": {},
   "outputs": [
    {
     "data": {
      "text/html": [
       "<div>\n",
       "<style scoped>\n",
       "    .dataframe tbody tr th:only-of-type {\n",
       "        vertical-align: middle;\n",
       "    }\n",
       "\n",
       "    .dataframe tbody tr th {\n",
       "        vertical-align: top;\n",
       "    }\n",
       "\n",
       "    .dataframe thead th {\n",
       "        text-align: right;\n",
       "    }\n",
       "</style>\n",
       "<table border=\"1\" class=\"dataframe\">\n",
       "  <thead>\n",
       "    <tr style=\"text-align: right;\">\n",
       "      <th></th>\n",
       "      <th>sentiment</th>\n",
       "      <th>message</th>\n",
       "      <th>userfollowers</th>\n",
       "      <th>user_likecount</th>\n",
       "      <th>message_likes</th>\n",
       "      <th>message_date</th>\n",
       "    </tr>\n",
       "  </thead>\n",
       "  <tbody>\n",
       "    <tr>\n",
       "      <th>2077</th>\n",
       "      <td>Bearish</td>\n",
       "      <td>$LYFT $FB Facebook could buy Lyft, and then th...</td>\n",
       "      <td>58798</td>\n",
       "      <td>24729</td>\n",
       "      <td>NaN</td>\n",
       "      <td>2019-04-02</td>\n",
       "    </tr>\n",
       "    <tr>\n",
       "      <th>2078</th>\n",
       "      <td>Bullish</td>\n",
       "      <td>$LTC.X $BTC.X $NVDA $FB $AMD $ATVI $AAPL lol b...</td>\n",
       "      <td>48</td>\n",
       "      <td>117</td>\n",
       "      <td>NaN</td>\n",
       "      <td>2019-04-02</td>\n",
       "    </tr>\n",
       "    <tr>\n",
       "      <th>2079</th>\n",
       "      <td>Bullish</td>\n",
       "      <td>$FB going to be 180+ before earnings</td>\n",
       "      <td>118</td>\n",
       "      <td>3595</td>\n",
       "      <td>NaN</td>\n",
       "      <td>2019-04-02</td>\n",
       "    </tr>\n",
       "    <tr>\n",
       "      <th>2080</th>\n",
       "      <td>Bullish</td>\n",
       "      <td>$FB **Yawn**  Wake me if something happens.</td>\n",
       "      <td>108</td>\n",
       "      <td>1851</td>\n",
       "      <td>NaN</td>\n",
       "      <td>2019-04-02</td>\n",
       "    </tr>\n",
       "    <tr>\n",
       "      <th>2081</th>\n",
       "      <td>Bearish</td>\n",
       "      <td>$SPY \\n\\n$AMZN &amp;amp; $FB at major resistance c...</td>\n",
       "      <td>98</td>\n",
       "      <td>1279</td>\n",
       "      <td>NaN</td>\n",
       "      <td>2019-04-02</td>\n",
       "    </tr>\n",
       "  </tbody>\n",
       "</table>\n",
       "</div>"
      ],
      "text/plain": [
       "     sentiment                                            message  \\\n",
       "2077   Bearish  $LYFT $FB Facebook could buy Lyft, and then th...   \n",
       "2078   Bullish  $LTC.X $BTC.X $NVDA $FB $AMD $ATVI $AAPL lol b...   \n",
       "2079   Bullish               $FB going to be 180+ before earnings   \n",
       "2080   Bullish        $FB **Yawn**  Wake me if something happens.   \n",
       "2081   Bearish  $SPY \\n\\n$AMZN &amp; $FB at major resistance c...   \n",
       "\n",
       "      userfollowers  user_likecount  message_likes message_date  \n",
       "2077          58798           24729            NaN   2019-04-02  \n",
       "2078             48             117            NaN   2019-04-02  \n",
       "2079            118            3595            NaN   2019-04-02  \n",
       "2080            108            1851            NaN   2019-04-02  \n",
       "2081             98            1279            NaN   2019-04-02  "
      ]
     },
     "execution_count": 16,
     "metadata": {},
     "output_type": "execute_result"
    }
   ],
   "source": [
    "df.tail()"
   ]
  },
  {
   "cell_type": "code",
   "execution_count": 17,
   "metadata": {},
   "outputs": [
    {
     "data": {
      "text/plain": [
       "Bullish    1565\n",
       "Bearish     517\n",
       "Name: sentiment, dtype: int64"
      ]
     },
     "execution_count": 17,
     "metadata": {},
     "output_type": "execute_result"
    }
   ],
   "source": [
    "value = df['sentiment'].value_counts()\n",
    "value"
   ]
  },
  {
   "cell_type": "code",
   "execution_count": 18,
   "metadata": {},
   "outputs": [],
   "source": [
    "df.drop(df[df['userfollowers'] < 50].index, inplace=True)"
   ]
  },
  {
   "cell_type": "code",
   "execution_count": 19,
   "metadata": {},
   "outputs": [
    {
     "data": {
      "text/plain": [
       "(1105, 6)"
      ]
     },
     "execution_count": 19,
     "metadata": {},
     "output_type": "execute_result"
    }
   ],
   "source": [
    "df.shape"
   ]
  },
  {
   "cell_type": "code",
   "execution_count": 20,
   "metadata": {},
   "outputs": [
    {
     "data": {
      "text/plain": [
       "Bullish    822\n",
       "Bearish    283\n",
       "Name: sentiment, dtype: int64"
      ]
     },
     "execution_count": 20,
     "metadata": {},
     "output_type": "execute_result"
    }
   ],
   "source": [
    "value = df['sentiment'].value_counts()\n",
    "value"
   ]
  },
  {
   "cell_type": "code",
   "execution_count": 21,
   "metadata": {},
   "outputs": [
    {
     "data": {
      "text/html": [
       "<div>\n",
       "<style scoped>\n",
       "    .dataframe tbody tr th:only-of-type {\n",
       "        vertical-align: middle;\n",
       "    }\n",
       "\n",
       "    .dataframe tbody tr th {\n",
       "        vertical-align: top;\n",
       "    }\n",
       "\n",
       "    .dataframe thead th {\n",
       "        text-align: right;\n",
       "    }\n",
       "</style>\n",
       "<table border=\"1\" class=\"dataframe\">\n",
       "  <thead>\n",
       "    <tr style=\"text-align: right;\">\n",
       "      <th></th>\n",
       "      <th>sentiment</th>\n",
       "      <th>message</th>\n",
       "      <th>userfollowers</th>\n",
       "      <th>user_likecount</th>\n",
       "      <th>message_likes</th>\n",
       "      <th>message_date</th>\n",
       "    </tr>\n",
       "  </thead>\n",
       "  <tbody>\n",
       "    <tr>\n",
       "      <th>1</th>\n",
       "      <td>Bullish</td>\n",
       "      <td>$SPOT $GOOGL $TWTR $AMZN .</td>\n",
       "      <td>6914</td>\n",
       "      <td>38315</td>\n",
       "      <td>NaN</td>\n",
       "      <td>2020-10-26</td>\n",
       "    </tr>\n",
       "    <tr>\n",
       "      <th>3</th>\n",
       "      <td>Bullish</td>\n",
       "      <td>$TWTR (delayed) Trade ideas: Oct 30 $54 Calls ...</td>\n",
       "      <td>772</td>\n",
       "      <td>22</td>\n",
       "      <td>NaN</td>\n",
       "      <td>2020-10-26</td>\n",
       "    </tr>\n",
       "    <tr>\n",
       "      <th>4</th>\n",
       "      <td>Bullish</td>\n",
       "      <td>$TWTR buy the dip!</td>\n",
       "      <td>197</td>\n",
       "      <td>17655</td>\n",
       "      <td>NaN</td>\n",
       "      <td>2020-10-26</td>\n",
       "    </tr>\n",
       "    <tr>\n",
       "      <th>6</th>\n",
       "      <td>Bullish</td>\n",
       "      <td>$BVXV So over 86% drop on Friday and another 2...</td>\n",
       "      <td>65</td>\n",
       "      <td>5535</td>\n",
       "      <td>NaN</td>\n",
       "      <td>2020-10-26</td>\n",
       "    </tr>\n",
       "    <tr>\n",
       "      <th>7</th>\n",
       "      <td>Bullish</td>\n",
       "      <td>$AMD $TWLO $SBUX $UPS $TWTR \\n\\nSome good dips...</td>\n",
       "      <td>1777</td>\n",
       "      <td>576</td>\n",
       "      <td>NaN</td>\n",
       "      <td>2020-10-26</td>\n",
       "    </tr>\n",
       "  </tbody>\n",
       "</table>\n",
       "</div>"
      ],
      "text/plain": [
       "  sentiment                                            message  userfollowers  \\\n",
       "1   Bullish                         $SPOT $GOOGL $TWTR $AMZN .           6914   \n",
       "3   Bullish  $TWTR (delayed) Trade ideas: Oct 30 $54 Calls ...            772   \n",
       "4   Bullish                                 $TWTR buy the dip!            197   \n",
       "6   Bullish  $BVXV So over 86% drop on Friday and another 2...             65   \n",
       "7   Bullish  $AMD $TWLO $SBUX $UPS $TWTR \\n\\nSome good dips...           1777   \n",
       "\n",
       "   user_likecount  message_likes message_date  \n",
       "1           38315            NaN   2020-10-26  \n",
       "3              22            NaN   2020-10-26  \n",
       "4           17655            NaN   2020-10-26  \n",
       "6            5535            NaN   2020-10-26  \n",
       "7             576            NaN   2020-10-26  "
      ]
     },
     "execution_count": 21,
     "metadata": {},
     "output_type": "execute_result"
    }
   ],
   "source": [
    "df.head()"
   ]
  },
  {
   "cell_type": "code",
   "execution_count": 22,
   "metadata": {},
   "outputs": [],
   "source": [
    "df.drop(df[df['message_date']<'2019-01-01'].index,inplace=True)\n",
    "df.drop(df[df['message_date']>'2020-09-30'].index,inplace=True)"
   ]
  },
  {
   "cell_type": "code",
   "execution_count": 23,
   "metadata": {},
   "outputs": [],
   "source": [
    "df.reset_index(drop=True,inplace=True)"
   ]
  },
  {
   "cell_type": "code",
   "execution_count": 24,
   "metadata": {},
   "outputs": [
    {
     "data": {
      "text/plain": [
       "(997, 6)"
      ]
     },
     "execution_count": 24,
     "metadata": {},
     "output_type": "execute_result"
    }
   ],
   "source": [
    "df.shape"
   ]
  },
  {
   "cell_type": "code",
   "execution_count": 25,
   "metadata": {
    "scrolled": true
   },
   "outputs": [
    {
     "data": {
      "text/html": [
       "<div>\n",
       "<style scoped>\n",
       "    .dataframe tbody tr th:only-of-type {\n",
       "        vertical-align: middle;\n",
       "    }\n",
       "\n",
       "    .dataframe tbody tr th {\n",
       "        vertical-align: top;\n",
       "    }\n",
       "\n",
       "    .dataframe thead th {\n",
       "        text-align: right;\n",
       "    }\n",
       "</style>\n",
       "<table border=\"1\" class=\"dataframe\">\n",
       "  <thead>\n",
       "    <tr style=\"text-align: right;\">\n",
       "      <th></th>\n",
       "      <th>sentiment</th>\n",
       "      <th>message</th>\n",
       "      <th>userfollowers</th>\n",
       "      <th>user_likecount</th>\n",
       "      <th>message_likes</th>\n",
       "      <th>message_date</th>\n",
       "    </tr>\n",
       "  </thead>\n",
       "  <tbody>\n",
       "    <tr>\n",
       "      <th>0</th>\n",
       "      <td>Bullish</td>\n",
       "      <td>$CHGG we need to see some volume</td>\n",
       "      <td>123</td>\n",
       "      <td>94</td>\n",
       "      <td>NaN</td>\n",
       "      <td>2020-09-30</td>\n",
       "    </tr>\n",
       "    <tr>\n",
       "      <th>1</th>\n",
       "      <td>Bullish</td>\n",
       "      <td>$CHGG I think there&amp;#39;s a breakout coming, s...</td>\n",
       "      <td>123</td>\n",
       "      <td>94</td>\n",
       "      <td>NaN</td>\n",
       "      <td>2020-09-30</td>\n",
       "    </tr>\n",
       "    <tr>\n",
       "      <th>2</th>\n",
       "      <td>Bullish</td>\n",
       "      <td>The market cap of $CHGG is roughly 9.2 billion...</td>\n",
       "      <td>1581</td>\n",
       "      <td>1390</td>\n",
       "      <td>NaN</td>\n",
       "      <td>2020-09-30</td>\n",
       "    </tr>\n",
       "    <tr>\n",
       "      <th>3</th>\n",
       "      <td>Bullish</td>\n",
       "      <td>$FSLY $AAPL $NET The market wants tech stocks ...</td>\n",
       "      <td>105</td>\n",
       "      <td>3780</td>\n",
       "      <td>NaN</td>\n",
       "      <td>2020-09-29</td>\n",
       "    </tr>\n",
       "    <tr>\n",
       "      <th>4</th>\n",
       "      <td>Bullish</td>\n",
       "      <td>$SPAQ buy the rumor sell the news . $AAPL \\n\\n...</td>\n",
       "      <td>438</td>\n",
       "      <td>2960</td>\n",
       "      <td>NaN</td>\n",
       "      <td>2020-09-29</td>\n",
       "    </tr>\n",
       "  </tbody>\n",
       "</table>\n",
       "</div>"
      ],
      "text/plain": [
       "  sentiment                                            message  userfollowers  \\\n",
       "0   Bullish                   $CHGG we need to see some volume            123   \n",
       "1   Bullish  $CHGG I think there&#39;s a breakout coming, s...            123   \n",
       "2   Bullish  The market cap of $CHGG is roughly 9.2 billion...           1581   \n",
       "3   Bullish  $FSLY $AAPL $NET The market wants tech stocks ...            105   \n",
       "4   Bullish  $SPAQ buy the rumor sell the news . $AAPL \\n\\n...            438   \n",
       "\n",
       "   user_likecount  message_likes message_date  \n",
       "0              94            NaN   2020-09-30  \n",
       "1              94            NaN   2020-09-30  \n",
       "2            1390            NaN   2020-09-30  \n",
       "3            3780            NaN   2020-09-29  \n",
       "4            2960            NaN   2020-09-29  "
      ]
     },
     "execution_count": 25,
     "metadata": {},
     "output_type": "execute_result"
    }
   ],
   "source": [
    "df.head()"
   ]
  },
  {
   "cell_type": "code",
   "execution_count": null,
   "metadata": {},
   "outputs": [],
   "source": []
  },
  {
   "cell_type": "code",
   "execution_count": 26,
   "metadata": {},
   "outputs": [],
   "source": [
    "df_cleaned = df.drop(columns = ['userfollowers','user_likecount','message_likes','message_date'])"
   ]
  },
  {
   "cell_type": "code",
   "execution_count": 27,
   "metadata": {},
   "outputs": [
    {
     "data": {
      "text/html": [
       "<div>\n",
       "<style scoped>\n",
       "    .dataframe tbody tr th:only-of-type {\n",
       "        vertical-align: middle;\n",
       "    }\n",
       "\n",
       "    .dataframe tbody tr th {\n",
       "        vertical-align: top;\n",
       "    }\n",
       "\n",
       "    .dataframe thead th {\n",
       "        text-align: right;\n",
       "    }\n",
       "</style>\n",
       "<table border=\"1\" class=\"dataframe\">\n",
       "  <thead>\n",
       "    <tr style=\"text-align: right;\">\n",
       "      <th></th>\n",
       "      <th>sentiment</th>\n",
       "      <th>message</th>\n",
       "    </tr>\n",
       "  </thead>\n",
       "  <tbody>\n",
       "    <tr>\n",
       "      <th>0</th>\n",
       "      <td>Bullish</td>\n",
       "      <td>$CHGG we need to see some volume</td>\n",
       "    </tr>\n",
       "    <tr>\n",
       "      <th>1</th>\n",
       "      <td>Bullish</td>\n",
       "      <td>$CHGG I think there&amp;#39;s a breakout coming, s...</td>\n",
       "    </tr>\n",
       "    <tr>\n",
       "      <th>2</th>\n",
       "      <td>Bullish</td>\n",
       "      <td>The market cap of $CHGG is roughly 9.2 billion...</td>\n",
       "    </tr>\n",
       "    <tr>\n",
       "      <th>3</th>\n",
       "      <td>Bullish</td>\n",
       "      <td>$FSLY $AAPL $NET The market wants tech stocks ...</td>\n",
       "    </tr>\n",
       "    <tr>\n",
       "      <th>4</th>\n",
       "      <td>Bullish</td>\n",
       "      <td>$SPAQ buy the rumor sell the news . $AAPL \\n\\n...</td>\n",
       "    </tr>\n",
       "  </tbody>\n",
       "</table>\n",
       "</div>"
      ],
      "text/plain": [
       "  sentiment                                            message\n",
       "0   Bullish                   $CHGG we need to see some volume\n",
       "1   Bullish  $CHGG I think there&#39;s a breakout coming, s...\n",
       "2   Bullish  The market cap of $CHGG is roughly 9.2 billion...\n",
       "3   Bullish  $FSLY $AAPL $NET The market wants tech stocks ...\n",
       "4   Bullish  $SPAQ buy the rumor sell the news . $AAPL \\n\\n..."
      ]
     },
     "execution_count": 27,
     "metadata": {},
     "output_type": "execute_result"
    }
   ],
   "source": [
    "df_cleaned.head()"
   ]
  },
  {
   "cell_type": "code",
   "execution_count": 28,
   "metadata": {},
   "outputs": [
    {
     "data": {
      "text/plain": [
       "(997, 2)"
      ]
     },
     "execution_count": 28,
     "metadata": {},
     "output_type": "execute_result"
    }
   ],
   "source": [
    "df_cleaned.shape"
   ]
  },
  {
   "cell_type": "code",
   "execution_count": 30,
   "metadata": {},
   "outputs": [],
   "source": [
    "#df.to_csv(\"/home/prem/Documents/Modelling in operational management/stocktwits_cleaned4.csv\",index=False)"
   ]
  },
  {
   "cell_type": "code",
   "execution_count": null,
   "metadata": {},
   "outputs": [],
   "source": []
  }
 ],
 "metadata": {
  "kernelspec": {
   "display_name": "Python 3",
   "language": "python",
   "name": "python3"
  },
  "language_info": {
   "codemirror_mode": {
    "name": "ipython",
    "version": 3
   },
   "file_extension": ".py",
   "mimetype": "text/x-python",
   "name": "python",
   "nbconvert_exporter": "python",
   "pygments_lexer": "ipython3",
   "version": "3.7.3"
  }
 },
 "nbformat": 4,
 "nbformat_minor": 2
}
