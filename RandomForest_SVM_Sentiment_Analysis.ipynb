{
 "cells": [
  {
   "cell_type": "code",
   "execution_count": 1,
   "metadata": {},
   "outputs": [],
   "source": [
    "import pandas as pd\n",
    "import numpy as np\n",
    "import matplotlib.pyplot as plt\n",
    "import seaborn as sns\n",
    "\n",
    "from sklearn.feature_extraction.text import TfidfVectorizer\n",
    "\n",
    "from sklearn.metrics import classification_report, confusion_matrix, precision_score, recall_score, f1_score\n",
    "\n",
    "from imblearn.pipeline import make_pipeline\n",
    "from imblearn.over_sampling import ADASYN, SMOTE, RandomOverSampler"
   ]
  },
  {
   "cell_type": "code",
   "execution_count": 2,
   "metadata": {},
   "outputs": [],
   "source": [
    "df = pd.read_csv(\"/home/prem/Documents/Modelling in operational management/Stocktwits__Cleaned.csv\")"
   ]
  },
  {
   "cell_type": "code",
   "execution_count": 3,
   "metadata": {},
   "outputs": [
    {
     "data": {
      "text/html": [
       "<div>\n",
       "<style scoped>\n",
       "    .dataframe tbody tr th:only-of-type {\n",
       "        vertical-align: middle;\n",
       "    }\n",
       "\n",
       "    .dataframe tbody tr th {\n",
       "        vertical-align: top;\n",
       "    }\n",
       "\n",
       "    .dataframe thead th {\n",
       "        text-align: right;\n",
       "    }\n",
       "</style>\n",
       "<table border=\"1\" class=\"dataframe\">\n",
       "  <thead>\n",
       "    <tr style=\"text-align: right;\">\n",
       "      <th></th>\n",
       "      <th>cleaned_message</th>\n",
       "      <th>sentiment</th>\n",
       "    </tr>\n",
       "  </thead>\n",
       "  <tbody>\n",
       "    <tr>\n",
       "      <th>0</th>\n",
       "      <td>tsla funny all these people be say it be go to...</td>\n",
       "      <td>Bullish</td>\n",
       "    </tr>\n",
       "    <tr>\n",
       "      <th>1</th>\n",
       "      <td>tsla anyone else feel we have be pin the last ...</td>\n",
       "      <td>Bullish</td>\n",
       "    </tr>\n",
       "    <tr>\n",
       "      <th>2</th>\n",
       "      <td>tsla anytime watchout</td>\n",
       "      <td>Bearish</td>\n",
       "    </tr>\n",
       "    <tr>\n",
       "      <th>3</th>\n",
       "      <td>tsla bear be scared let them bring it down so ...</td>\n",
       "      <td>Bullish</td>\n",
       "    </tr>\n",
       "    <tr>\n",
       "      <th>4</th>\n",
       "      <td>tsla dollarbanknote rocket rocket rocket rocke...</td>\n",
       "      <td>Bullish</td>\n",
       "    </tr>\n",
       "  </tbody>\n",
       "</table>\n",
       "</div>"
      ],
      "text/plain": [
       "                                     cleaned_message sentiment\n",
       "0  tsla funny all these people be say it be go to...   Bullish\n",
       "1  tsla anyone else feel we have be pin the last ...   Bullish\n",
       "2                              tsla anytime watchout   Bearish\n",
       "3  tsla bear be scared let them bring it down so ...   Bullish\n",
       "4  tsla dollarbanknote rocket rocket rocket rocke...   Bullish"
      ]
     },
     "execution_count": 3,
     "metadata": {},
     "output_type": "execute_result"
    }
   ],
   "source": [
    "df.head()"
   ]
  },
  {
   "cell_type": "code",
   "execution_count": 4,
   "metadata": {},
   "outputs": [
    {
     "data": {
      "text/plain": [
       "(5655, 2)"
      ]
     },
     "execution_count": 4,
     "metadata": {},
     "output_type": "execute_result"
    }
   ],
   "source": [
    "df.shape"
   ]
  },
  {
   "cell_type": "code",
   "execution_count": 5,
   "metadata": {},
   "outputs": [
    {
     "data": {
      "text/plain": [
       "Bullish    4264\n",
       "Bearish    1391\n",
       "Name: sentiment, dtype: int64"
      ]
     },
     "execution_count": 5,
     "metadata": {},
     "output_type": "execute_result"
    }
   ],
   "source": [
    "value = df['sentiment'].value_counts()\n",
    "value"
   ]
  },
  {
   "cell_type": "code",
   "execution_count": 6,
   "metadata": {
    "scrolled": true
   },
   "outputs": [
    {
     "data": {
      "image/png": "[encoded data removed]",
      "text/plain": [
       "<Figure size 432x288 with 1 Axes>"
      ]
     },
     "metadata": {},
     "output_type": "display_data"
    }
   ],
   "source": [
    "plt.pie(value,autopct='%1.1f%%',labels=['Bearish','Bullish'])\n",
    "plt.show()"
   ]
  },
  {
   "cell_type": "code",
   "execution_count": 7,
   "metadata": {},
   "outputs": [],
   "source": [
    "from sklearn.ensemble import RandomForestClassifier"
   ]
  },
  {
   "cell_type": "code",
   "execution_count": 8,
   "metadata": {},
   "outputs": [],
   "source": [
    "tvec = TfidfVectorizer(stop_words=None, max_features=100000, ngram_range=(1, 3))\n",
    "# Instantiate model with 100 decision trees\n",
    "rf = RandomForestClassifier(n_estimators = 100, random_state = 42,criterion ='entropy')\n",
    "\n",
    "from sklearn.model_selection import StratifiedKFold\n",
    "\n",
    "def rf_cv(splits, X, Y, pipeline, average_method):\n",
    "    \n",
    "    kfold = StratifiedKFold(n_splits=splits, shuffle=True, random_state=777)\n",
    "    accuracy = []\n",
    "    precision = []\n",
    "    recall = []\n",
    "    f1 = []\n",
    "    \n",
    "    correctly_classified = []\n",
    "    for train, test in kfold.split(X, Y):\n",
    "        rf_fit = pipeline.fit(X[train], Y[train])\n",
    "        prediction = rf_fit.predict(X[test])\n",
    "        scores = rf_fit.score(X[test],Y[test])\n",
    "        \n",
    "        conmat = np.array(confusion_matrix(Y[test], prediction))\n",
    "        correctly_classified.append(conmat[0][0]+conmat[1][1])\n",
    "        confusion = pd.DataFrame(conmat, index=['Bearish', 'Bullish'],\n",
    "                         columns=['predicted_Bearish','predicted_Bullish'])\n",
    "        print(confusion)\n",
    "        print('\\n')\n",
    "        \n",
    "        accuracy.append(scores * 100)\n",
    "        precision.append(precision_score(Y[test], prediction, average=average_method)*100)\n",
    "        print('              Bearish    Bullish')\n",
    "        print('precision:',precision_score(Y[test], prediction, average=None))\n",
    "        recall.append(recall_score(Y[test], prediction, average=average_method)*100)\n",
    "        print('recall:   ',recall_score(Y[test], prediction, average=None))\n",
    "        f1.append(f1_score(Y[test], prediction, average=average_method)*100)\n",
    "        print('f1 score: ',f1_score(Y[test], prediction, average=None))\n",
    "        \n",
    "        #print(\"Classification Report\\n\")\n",
    "        #print(classification_report(Y[test], prediction))\n",
    "        print('-'*50)\n",
    "\n",
    "    print(\"accuracy: %.2f%% (+/- %.2f%%)\" % (np.mean(accuracy), np.std(accuracy)))\n",
    "    print(\"precision: %.2f%% (+/- %.2f%%)\" % (np.mean(precision), np.std(precision)))\n",
    "    print(\"recall: %.2f%% (+/- %.2f%%)\" % (np.mean(recall), np.std(recall)))\n",
    "    print(\"f1 score: %.2f%% (+/- %.2f%%)\" % (np.mean(f1), np.std(f1)))\n",
    "    return sum(correctly_classified)"
   ]
  },
  {
   "cell_type": "code",
   "execution_count": 10,
   "metadata": {},
   "outputs": [
    {
     "name": "stdout",
     "output_type": "stream",
     "text": [
      "         predicted_Bearish  predicted_Bullish\n",
      "Bearish                 56                407\n",
      "Bullish                 40               1382\n",
      "\n",
      "\n",
      "              Bearish    Bullish\n",
      "precision: [0.58333333 0.7724986 ]\n",
      "recall:    [0.12095032 0.9718706 ]\n",
      "f1 score:  [0.20035778 0.86079103]\n",
      "--------------------------------------------------\n",
      "         predicted_Bearish  predicted_Bullish\n",
      "Bearish                 78                386\n",
      "Bullish                 20               1401\n",
      "\n",
      "\n",
      "              Bearish    Bullish\n",
      "precision: [0.79591837 0.78399552]\n",
      "recall:    [0.16810345 0.9859254 ]\n",
      "f1 score:  [0.27758007 0.8734414 ]\n",
      "--------------------------------------------------\n",
      "         predicted_Bearish  predicted_Bullish\n",
      "Bearish                 52                412\n",
      "Bullish                 23               1398\n",
      "\n",
      "\n",
      "              Bearish    Bullish\n",
      "precision: [0.69333333 0.77237569]\n",
      "recall:    [0.11206897 0.98381422]\n",
      "f1 score:  [0.19294991 0.86536676]\n",
      "--------------------------------------------------\n",
      "accuracy: 77.22% (+/- 0.91%)\n",
      "precision: 73.36% (+/- 4.57%)\n",
      "recall: 55.71% (+/- 1.41%)\n",
      "f1 score: 54.51% (+/- 2.15%)\n"
     ]
    },
    {
     "data": {
      "text/plain": [
       "4367"
      ]
     },
     "execution_count": 10,
     "metadata": {},
     "output_type": "execute_result"
    }
   ],
   "source": [
    "from sklearn.pipeline import Pipeline\n",
    "\n",
    "original_pipeline = Pipeline([('vectorizer', tvec),('classifier', rf)])\n",
    "imbalance_correctly_classified = rf_cv(3, df.cleaned_message,df.sentiment, original_pipeline, 'macro')\n",
    "imbalance_correctly_classified"
   ]
  },
  {
   "cell_type": "markdown",
   "metadata": {},
   "source": [
    "### oversampling"
   ]
  },
  {
   "cell_type": "code",
   "execution_count": 11,
   "metadata": {},
   "outputs": [],
   "source": [
    "ROS_pipeline = make_pipeline(tvec, RandomOverSampler(random_state=777),rf)"
   ]
  },
  {
   "cell_type": "code",
   "execution_count": 13,
   "metadata": {},
   "outputs": [
    {
     "name": "stdout",
     "output_type": "stream",
     "text": [
      "         predicted_Bearish  predicted_Bullish\n",
      "Bearish                135                328\n",
      "Bullish                106               1316\n",
      "\n",
      "\n",
      "              Bearish    Bullish\n",
      "precision: [0.56016598 0.80048662]\n",
      "recall:    [0.29157667 0.9254571 ]\n",
      "f1 score:  [0.38352273 0.85844749]\n",
      "--------------------------------------------------\n",
      "         predicted_Bearish  predicted_Bullish\n",
      "Bearish                148                316\n",
      "Bullish                 74               1347\n",
      "\n",
      "\n",
      "              Bearish    Bullish\n",
      "precision: [0.66666667 0.80998196]\n",
      "recall:    [0.31896552 0.947924  ]\n",
      "f1 score:  [0.43148688 0.87354086]\n",
      "--------------------------------------------------\n",
      "         predicted_Bearish  predicted_Bullish\n",
      "Bearish                120                344\n",
      "Bullish                 71               1350\n",
      "\n",
      "\n",
      "              Bearish    Bullish\n",
      "precision: [0.62827225 0.79693034]\n",
      "recall:    [0.25862069 0.95003519]\n",
      "f1 score:  [0.36641221 0.86677368]\n",
      "--------------------------------------------------\n",
      "accuracy: 78.09% (+/- 0.96%)\n",
      "precision: 71.04% (+/- 2.37%)\n",
      "recall: 61.54% (+/- 1.29%)\n",
      "f1 score: 63.00% (+/- 1.60%)\n"
     ]
    },
    {
     "data": {
      "text/plain": [
       "4416"
      ]
     },
     "execution_count": 13,
     "metadata": {},
     "output_type": "execute_result"
    }
   ],
   "source": [
    "oversampling_correctly_classified = rf_cv(3, df.cleaned_message, df.sentiment, ROS_pipeline, 'macro')\n",
    "oversampling_correctly_classified"
   ]
  },
  {
   "cell_type": "markdown",
   "metadata": {},
   "source": [
    "## SMOTE - Synthetic Minority Over-Sampling Technique"
   ]
  },
  {
   "cell_type": "code",
   "execution_count": 14,
   "metadata": {},
   "outputs": [],
   "source": [
    "SMOTE_pipeline = make_pipeline(tvec, SMOTE(random_state=777),rf)"
   ]
  },
  {
   "cell_type": "code",
   "execution_count": 16,
   "metadata": {},
   "outputs": [
    {
     "name": "stdout",
     "output_type": "stream",
     "text": [
      "         predicted_Bearish  predicted_Bullish\n",
      "Bearish                 72                391\n",
      "Bullish                 45               1377\n",
      "\n",
      "\n",
      "              Bearish    Bullish\n",
      "precision: [0.61538462 0.77884615]\n",
      "recall:    [0.15550756 0.96835443]\n",
      "f1 score:  [0.24827586 0.86332288]\n",
      "--------------------------------------------------\n",
      "         predicted_Bearish  predicted_Bullish\n",
      "Bearish                 72                392\n",
      "Bullish                 24               1397\n",
      "\n",
      "\n",
      "              Bearish    Bullish\n",
      "precision: [0.75       0.78088317]\n",
      "recall:    [0.15517241 0.98311049]\n",
      "f1 score:  [0.25714286 0.87040498]\n",
      "--------------------------------------------------\n",
      "         predicted_Bearish  predicted_Bullish\n",
      "Bearish                 67                397\n",
      "Bullish                 32               1389\n",
      "\n",
      "\n",
      "              Bearish    Bullish\n",
      "precision: [0.67676768 0.77771557]\n",
      "recall:    [0.14439655 0.97748065]\n",
      "f1 score:  [0.23801066 0.86623012]\n",
      "--------------------------------------------------\n",
      "accuracy: 77.35% (+/- 0.44%)\n",
      "precision: 72.99% (+/- 2.80%)\n",
      "recall: 56.40% (+/- 0.37%)\n",
      "f1 score: 55.72% (+/- 0.49%)\n"
     ]
    },
    {
     "data": {
      "text/plain": [
       "4374"
      ]
     },
     "execution_count": 16,
     "metadata": {},
     "output_type": "execute_result"
    }
   ],
   "source": [
    "smote_correctly_classified = rf_cv(3, df.cleaned_message, df.sentiment, SMOTE_pipeline, 'macro')\n",
    "smote_correctly_classified"
   ]
  },
  {
   "cell_type": "markdown",
   "metadata": {},
   "source": [
    "### SVM"
   ]
  },
  {
   "cell_type": "code",
   "execution_count": 46,
   "metadata": {},
   "outputs": [],
   "source": [
    "from sklearn.svm import SVC"
   ]
  },
  {
   "cell_type": "code",
   "execution_count": 47,
   "metadata": {},
   "outputs": [],
   "source": [
    "tvec = TfidfVectorizer(stop_words=None, max_features=100000, ngram_range=(1, 3))\n",
    "# Instantiate model with 100 decision trees\n",
    "sv = SVC(kernel='linear', C = 1.0)\n",
    "\n",
    "from sklearn.model_selection import StratifiedKFold\n",
    "\n",
    "def sv_cv(splits, X, Y, pipeline, average_method):\n",
    "    \n",
    "    kfold = StratifiedKFold(n_splits=splits, shuffle=True, random_state=777)\n",
    "    accuracy = []\n",
    "    precision = []\n",
    "    recall = []\n",
    "    f1 = []\n",
    "    \n",
    "    correctly_classified = []\n",
    "    for train, test in kfold.split(X, Y):\n",
    "        sv_fit = pipeline.fit(X[train], Y[train])\n",
    "        prediction = sv_fit.predict(X[test])\n",
    "        scores = sv_fit.score(X[test],Y[test])\n",
    "        \n",
    "        conmat = np.array(confusion_matrix(Y[test], prediction))\n",
    "        correctly_classified.append(conmat[0][0]+conmat[1][1])\n",
    "        confusion = pd.DataFrame(conmat, index=['Bearish', 'Bullish'],\n",
    "                         columns=['predicted_Bearish','predicted_Bullish'])\n",
    "        print(confusion)\n",
    "        print('\\n')\n",
    "        \n",
    "        accuracy.append(scores * 100)\n",
    "        precision.append(precision_score(Y[test], prediction, average=average_method)*100)\n",
    "        print('              Bearish    Bullish')\n",
    "        print('precision:',precision_score(Y[test], prediction, average=None))\n",
    "        recall.append(recall_score(Y[test], prediction, average=average_method)*100)\n",
    "        print('recall:   ',recall_score(Y[test], prediction, average=None))\n",
    "        f1.append(f1_score(Y[test], prediction, average=average_method)*100)\n",
    "        print('f1 score: ',f1_score(Y[test], prediction, average=None))\n",
    "        \n",
    "        #print(\"Classification Report\\n\")\n",
    "        #print(classification_report(Y[test], prediction))\n",
    "        print('-'*50)\n",
    "\n",
    "    print(\"accuracy: %.2f%% (+/- %.2f%%)\" % (np.mean(accuracy), np.std(accuracy)))\n",
    "    print(\"precision: %.2f%% (+/- %.2f%%)\" % (np.mean(precision), np.std(precision)))\n",
    "    print(\"recall: %.2f%% (+/- %.2f%%)\" % (np.mean(recall), np.std(recall)))\n",
    "    print(\"f1 score: %.2f%% (+/- %.2f%%)\" % (np.mean(f1), np.std(f1)))\n",
    "    return sum(correctly_classified)"
   ]
  },
  {
   "cell_type": "code",
   "execution_count": 48,
   "metadata": {},
   "outputs": [
    {
     "name": "stdout",
     "output_type": "stream",
     "text": [
      "         predicted_Bearish  predicted_Bullish\n",
      "Bearish                 49                115\n",
      "Bullish                 19                479\n",
      "\n",
      "\n",
      "              Bearish    Bullish\n",
      "precision: [0.72058824 0.80639731]\n",
      "recall:    [0.29878049 0.96184739]\n",
      "f1 score:  [0.42241379 0.87728938]\n",
      "--------------------------------------------------\n",
      "         predicted_Bearish  predicted_Bullish\n",
      "Bearish                 44                119\n",
      "Bullish                 12                486\n",
      "\n",
      "\n",
      "              Bearish    Bullish\n",
      "precision: [0.78571429 0.80330579]\n",
      "recall:    [0.26993865 0.97590361]\n",
      "f1 score:  [0.40182648 0.881233  ]\n",
      "--------------------------------------------------\n",
      "         predicted_Bearish  predicted_Bullish\n",
      "Bearish                 43                120\n",
      "Bullish                 18                480\n",
      "\n",
      "\n",
      "              Bearish    Bullish\n",
      "precision: [0.70491803 0.8       ]\n",
      "recall:    [0.26380368 0.96385542]\n",
      "f1 score:  [0.38392857 0.87431694]\n",
      "--------------------------------------------------\n",
      "accuracy: 79.69% (+/- 0.44%)\n",
      "precision: 77.02% (+/- 1.78%)\n",
      "recall: 62.24% (+/- 0.67%)\n",
      "f1 score: 64.02% (+/- 0.85%)\n"
     ]
    },
    {
     "data": {
      "text/plain": [
       "1581"
      ]
     },
     "execution_count": 48,
     "metadata": {},
     "output_type": "execute_result"
    }
   ],
   "source": [
    "from sklearn.pipeline import Pipeline\n",
    "\n",
    "original_pipeline = Pipeline([('vectorizer', tvec),('classifier', sv)])\n",
    "imbalance_correctly_classified = sv_cv(3, df.cleaned_message,df.label, original_pipeline, 'macro')\n",
    "imbalance_correctly_classified"
   ]
  },
  {
   "cell_type": "markdown",
   "metadata": {},
   "source": [
    "### oversampling"
   ]
  },
  {
   "cell_type": "code",
   "execution_count": 49,
   "metadata": {},
   "outputs": [
    {
     "name": "stdout",
     "output_type": "stream",
     "text": [
      "         predicted_Bearish  predicted_Bullish\n",
      "Bearish                 78                 86\n",
      "Bullish                 56                442\n",
      "\n",
      "\n",
      "              Bearish    Bullish\n",
      "precision: [0.58208955 0.83712121]\n",
      "recall:    [0.47560976 0.8875502 ]\n",
      "f1 score:  [0.52348993 0.86159844]\n",
      "--------------------------------------------------\n",
      "         predicted_Bearish  predicted_Bullish\n",
      "Bearish                 74                 89\n",
      "Bullish                 34                464\n",
      "\n",
      "\n",
      "              Bearish    Bullish\n",
      "precision: [0.68518519 0.83905967]\n",
      "recall:    [0.45398773 0.93172691]\n",
      "f1 score:  [0.54612546 0.8829686 ]\n",
      "--------------------------------------------------\n",
      "         predicted_Bearish  predicted_Bullish\n",
      "Bearish                 77                 86\n",
      "Bullish                 44                454\n",
      "\n",
      "\n",
      "              Bearish    Bullish\n",
      "precision: [0.63636364 0.84074074]\n",
      "recall:    [0.47239264 0.91164659]\n",
      "f1 score:  [0.54225352 0.87475915]\n",
      "--------------------------------------------------\n",
      "accuracy: 80.09% (+/- 1.17%)\n",
      "precision: 73.68% (+/- 2.15%)\n",
      "recall: 68.88% (+/- 0.51%)\n",
      "f1 score: 70.52% (+/- 0.93%)\n"
     ]
    },
    {
     "data": {
      "text/plain": [
       "1589"
      ]
     },
     "execution_count": 49,
     "metadata": {},
     "output_type": "execute_result"
    }
   ],
   "source": [
    "ROS_pipeline = make_pipeline(tvec, RandomOverSampler(random_state=777),sv)\n",
    "\n",
    "oversampling_correctly_classified = sv_cv(3, df.cleaned_message, df.label, ROS_pipeline, 'macro')\n",
    "oversampling_correctly_classified"
   ]
  },
  {
   "cell_type": "markdown",
   "metadata": {},
   "source": [
    "###  SMOTE - Synthetic Minority Over-Sampling Technique"
   ]
  },
  {
   "cell_type": "code",
   "execution_count": 51,
   "metadata": {},
   "outputs": [
    {
     "name": "stdout",
     "output_type": "stream",
     "text": [
      "         predicted_Bearish  predicted_Bullish\n",
      "Bearish                 82                 82\n",
      "Bullish                 61                437\n",
      "\n",
      "\n",
      "              Bearish    Bullish\n",
      "precision: [0.57342657 0.84200385]\n",
      "recall:    [0.5        0.87751004]\n",
      "f1 score:  [0.53420195 0.85939036]\n",
      "--------------------------------------------------\n",
      "         predicted_Bearish  predicted_Bullish\n",
      "Bearish                 75                 88\n",
      "Bullish                 45                453\n",
      "\n",
      "\n",
      "              Bearish    Bullish\n",
      "precision: [0.625      0.83733826]\n",
      "recall:    [0.4601227  0.90963855]\n",
      "f1 score:  [0.53003534 0.8719923 ]\n",
      "--------------------------------------------------\n",
      "         predicted_Bearish  predicted_Bullish\n",
      "Bearish                 76                 87\n",
      "Bullish                 48                450\n",
      "\n",
      "\n",
      "              Bearish    Bullish\n",
      "precision: [0.61290323 0.83798883]\n",
      "recall:    [0.46625767 0.90361446]\n",
      "f1 score:  [0.52961672 0.86956522]\n",
      "--------------------------------------------------\n",
      "accuracy: 79.28% (+/- 0.64%)\n",
      "precision: 72.14% (+/- 1.00%)\n",
      "recall: 68.62% (+/- 0.18%)\n",
      "f1 score: 69.91% (+/- 0.18%)\n"
     ]
    },
    {
     "data": {
      "text/plain": [
       "1573"
      ]
     },
     "execution_count": 51,
     "metadata": {},
     "output_type": "execute_result"
    }
   ],
   "source": [
    "SMOTE_pipeline = make_pipeline(tvec, SMOTE(random_state=777),sv)\n",
    "\n",
    "smote_correctly_classified = sv_cv(3, df.cleaned_message, df.label, SMOTE_pipeline, 'macro')\n",
    "smote_correctly_classified"
   ]
  },
  {
   "cell_type": "code",
   "execution_count": null,
   "metadata": {},
   "outputs": [],
   "source": []
  }
 ],
 "metadata": {
  "kernelspec": {
   "display_name": "Python 3",
   "language": "python",
   "name": "python3"
  },
  "language_info": {
   "codemirror_mode": {
    "name": "ipython",
    "version": 3
   },
   "file_extension": ".py",
   "mimetype": "text/x-python",
   "name": "python",
   "nbconvert_exporter": "python",
   "pygments_lexer": "ipython3",
   "version": "3.7.3"
  }
 },
 "nbformat": 4,
 "nbformat_minor": 2
}
