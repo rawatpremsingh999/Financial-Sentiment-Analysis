{
 "cells": [
  {
   "cell_type": "code",
   "execution_count": 1,
   "metadata": {},
   "outputs": [],
   "source": [
    "import pandas as pd"
   ]
  },
  {
   "cell_type": "code",
   "execution_count": 2,
   "metadata": {},
   "outputs": [],
   "source": [
    "df = pd.read_csv(\"/home/prem/Documents/Modelling in operational management/Stocktwits_Con_Cleaned.csv\")"
   ]
  },
  {
   "cell_type": "code",
   "execution_count": 3,
   "metadata": {},
   "outputs": [
    {
     "data": {
      "text/html": [
       "<div>\n",
       "<style scoped>\n",
       "    .dataframe tbody tr th:only-of-type {\n",
       "        vertical-align: middle;\n",
       "    }\n",
       "\n",
       "    .dataframe tbody tr th {\n",
       "        vertical-align: top;\n",
       "    }\n",
       "\n",
       "    .dataframe thead th {\n",
       "        text-align: right;\n",
       "    }\n",
       "</style>\n",
       "<table border=\"1\" class=\"dataframe\">\n",
       "  <thead>\n",
       "    <tr style=\"text-align: right;\">\n",
       "      <th></th>\n",
       "      <th>sentiment</th>\n",
       "      <th>message</th>\n",
       "      <th>userfollowers</th>\n",
       "      <th>user_likecount</th>\n",
       "      <th>message_likes</th>\n",
       "      <th>message_date</th>\n",
       "    </tr>\n",
       "  </thead>\n",
       "  <tbody>\n",
       "    <tr>\n",
       "      <th>0</th>\n",
       "      <td>Bullish</td>\n",
       "      <td>TD BUY $DBX at 19.13, Supp 18.78 Resis 20.35 R...</td>\n",
       "      <td>2512</td>\n",
       "      <td>1033</td>\n",
       "      <td>1.0</td>\n",
       "      <td>2020-09-30</td>\n",
       "    </tr>\n",
       "    <tr>\n",
       "      <th>1</th>\n",
       "      <td>Bullish</td>\n",
       "      <td>$DBX $CCL $GPRO $NAT I&amp;#39;m not one to bash a...</td>\n",
       "      <td>100</td>\n",
       "      <td>1674</td>\n",
       "      <td>2.0</td>\n",
       "      <td>2020-09-29</td>\n",
       "    </tr>\n",
       "    <tr>\n",
       "      <th>2</th>\n",
       "      <td>Bullish</td>\n",
       "      <td>Same deal with $SNAP, another Box-Trigger/pote...</td>\n",
       "      <td>32523</td>\n",
       "      <td>2825</td>\n",
       "      <td>2.0</td>\n",
       "      <td>2020-09-28</td>\n",
       "    </tr>\n",
       "    <tr>\n",
       "      <th>3</th>\n",
       "      <td>Bullish</td>\n",
       "      <td>Took some $SNAP $26.50c this week at .25</td>\n",
       "      <td>1163</td>\n",
       "      <td>6895</td>\n",
       "      <td>4.0</td>\n",
       "      <td>2020-09-28</td>\n",
       "    </tr>\n",
       "    <tr>\n",
       "      <th>4</th>\n",
       "      <td>Bullish</td>\n",
       "      <td>Impressive chart. Snapchat $SNAP  No. 25 rank ...</td>\n",
       "      <td>57161</td>\n",
       "      <td>23</td>\n",
       "      <td>3.0</td>\n",
       "      <td>2020-09-28</td>\n",
       "    </tr>\n",
       "  </tbody>\n",
       "</table>\n",
       "</div>"
      ],
      "text/plain": [
       "  sentiment                                            message  userfollowers  \\\n",
       "0   Bullish  TD BUY $DBX at 19.13, Supp 18.78 Resis 20.35 R...           2512   \n",
       "1   Bullish  $DBX $CCL $GPRO $NAT I&#39;m not one to bash a...            100   \n",
       "2   Bullish  Same deal with $SNAP, another Box-Trigger/pote...          32523   \n",
       "3   Bullish           Took some $SNAP $26.50c this week at .25           1163   \n",
       "4   Bullish  Impressive chart. Snapchat $SNAP  No. 25 rank ...          57161   \n",
       "\n",
       "   user_likecount  message_likes message_date  \n",
       "0            1033            1.0   2020-09-30  \n",
       "1            1674            2.0   2020-09-29  \n",
       "2            2825            2.0   2020-09-28  \n",
       "3            6895            4.0   2020-09-28  \n",
       "4              23            3.0   2020-09-28  "
      ]
     },
     "execution_count": 3,
     "metadata": {},
     "output_type": "execute_result"
    }
   ],
   "source": [
    "df.head()"
   ]
  },
  {
   "cell_type": "code",
   "execution_count": 4,
   "metadata": {},
   "outputs": [
    {
     "data": {
      "text/plain": [
       "(4071, 6)"
      ]
     },
     "execution_count": 4,
     "metadata": {},
     "output_type": "execute_result"
    }
   ],
   "source": [
    "df.shape"
   ]
  },
  {
   "cell_type": "code",
   "execution_count": 5,
   "metadata": {},
   "outputs": [],
   "source": [
    "data = df['message']"
   ]
  },
  {
   "cell_type": "code",
   "execution_count": 6,
   "metadata": {},
   "outputs": [
    {
     "data": {
      "text/plain": [
       "'Impressive chart. Snapchat $SNAP  No. 25 rank overall (out of 5,362).'"
      ]
     },
     "execution_count": 6,
     "metadata": {},
     "output_type": "execute_result"
    }
   ],
   "source": [
    "data[4]"
   ]
  },
  {
   "cell_type": "code",
   "execution_count": 7,
   "metadata": {},
   "outputs": [],
   "source": [
    "#emoji.demojize(data[4],use_aliases=True,delimiters=(' ',' '))"
   ]
  },
  {
   "cell_type": "code",
   "execution_count": 8,
   "metadata": {},
   "outputs": [],
   "source": [
    "#for i in range(len(data)):\n",
    "#    data[i]=emoji.demojize(data[i], delimiters=(' ','')) "
   ]
  },
  {
   "cell_type": "code",
   "execution_count": 7,
   "metadata": {},
   "outputs": [
    {
     "data": {
      "text/plain": [
       "'$MU keep selling into it'"
      ]
     },
     "execution_count": 7,
     "metadata": {},
     "output_type": "execute_result"
    }
   ],
   "source": [
    "data[26]"
   ]
  },
  {
   "cell_type": "code",
   "execution_count": 8,
   "metadata": {},
   "outputs": [],
   "source": [
    "import emoji\n",
    "import re\n",
    "import codecs\n",
    "import unidecode\n",
    "import spacy\n",
    "nlp = spacy.load('en')"
   ]
  },
  {
   "cell_type": "code",
   "execution_count": 9,
   "metadata": {},
   "outputs": [],
   "source": [
    "contraction_mapping = {\"ain't\": \"is not\", \"aren't\": \"are not\",\"can't\": \"cannot\", \n",
    "                   \"can't've\": \"cannot have\", \"'cause\": \"because\", \"could've\": \"could have\", \n",
    "                   \"couldn't\": \"could not\", \"couldn't've\": \"could not have\",\"didn't\": \"did not\", \n",
    "                   \"doesn't\": \"does not\", \"don't\": \"do not\", \"hadn't\": \"had not\", \n",
    "                   \"hadn't've\": \"had not have\", \"hasn't\": \"has not\", \"haven't\": \"have not\", \n",
    "                   \"he'd\": \"he would\", \"he'd've\": \"he would have\", \"he'll\": \"he will\", \n",
    "                   \"he'll've\": \"he will have\", \"he's\": \"he is\", \"how'd\": \"how did\", \n",
    "                   \"how'd'y\": \"how do you\", \"how'll\": \"how will\", \"how's\": \"how is\", \n",
    "                   \"I'd\": \"I would\", \"I'd've\": \"I would have\", \"I'll\": \"I will\", \n",
    "                   \"I'll've\": \"I will have\",\"I'm\": \"I am\", \"I've\": \"I have\", \n",
    "                   \"i'd\": \"i would\", \"i'd've\": \"i would have\", \"i'll\": \"i will\", \n",
    "                   \"i'll've\": \"i will have\",\"i'm\": \"i am\", \"i've\": \"i have\", \n",
    "                   \"isn't\": \"is not\", \"it'd\": \"it would\", \"it'd've\": \"it would have\", \n",
    "                   \"it'll\": \"it will\", \"it'll've\": \"it will have\",\"it's\": \"it is\", \n",
    "                   \"let's\": \"let us\", \"ma'am\": \"madam\", \"mayn't\": \"may not\", \n",
    "                   \"might've\": \"might have\",\"mightn't\": \"might not\",\"mightn't've\": \"might not have\", \n",
    "                   \"must've\": \"must have\", \"mustn't\": \"must not\", \"mustn't've\": \"must not have\", \n",
    "                   \"needn't\": \"need not\", \"needn't've\": \"need not have\",\"o'clock\": \"of the clock\", \n",
    "                   \"oughtn't\": \"ought not\", \"oughtn't've\": \"ought not have\", \"shan't\": \"shall not\",\n",
    "                   \"sha'n't\": \"shall not\", \"shan't've\": \"shall not have\", \"she'd\": \"she would\", \n",
    "                   \"she'd've\": \"she would have\", \"she'll\": \"she will\", \"she'll've\": \"she will have\", \n",
    "                   \"she's\": \"she is\", \"should've\": \"should have\", \"shouldn't\": \"should not\", \n",
    "                   \"shouldn't've\": \"should not have\", \"so've\": \"so have\",\"so's\": \"so as\", \n",
    "                   \"this's\": \"this is\",\n",
    "                   \"that'd\": \"that would\", \"that'd've\": \"that would have\",\"that's\": \"that is\", \n",
    "                   \"there'd\": \"there would\", \"there'd've\": \"there would have\",\"there's\": \"there is\", \n",
    "                       \"here's\": \"here is\",\n",
    "                   \"they'd\": \"they would\", \"they'd've\": \"they would have\", \"they'll\": \"they will\", \n",
    "                   \"they'll've\": \"they will have\", \"they're\": \"they are\", \"they've\": \"they have\", \n",
    "                   \"to've\": \"to have\", \"wasn't\": \"was not\", \"we'd\": \"we would\", \n",
    "                   \"we'd've\": \"we would have\", \"we'll\": \"we will\", \"we'll've\": \"we will have\", \n",
    "                   \"we're\": \"we are\", \"we've\": \"we have\", \"weren't\": \"were not\", \n",
    "                   \"what'll\": \"what will\", \"what'll've\": \"what will have\", \"what're\": \"what are\", \n",
    "                   \"what's\": \"what is\", \"what've\": \"what have\", \"when's\": \"when is\", \n",
    "                   \"when've\": \"when have\", \"where'd\": \"where did\", \"where's\": \"where is\", \n",
    "                   \"where've\": \"where have\", \"who'll\": \"who will\", \"who'll've\": \"who will have\", \n",
    "                   \"who's\": \"who is\", \"who've\": \"who have\", \"why's\": \"why is\", \n",
    "                   \"why've\": \"why have\", \"will've\": \"will have\", \"won't\": \"will not\", \n",
    "                   \"won't've\": \"will not have\", \"would've\": \"would have\", \"wouldn't\": \"would not\", \n",
    "                   \"wouldn't've\": \"would not have\", \"y'all\": \"you all\", \"y'all'd\": \"you all would\",\n",
    "                   \"y'all'd've\": \"you all would have\",\"y'all're\": \"you all are\",\"y'all've\": \"you all have\",\n",
    "                   \"you'd\": \"you would\", \"you'd've\": \"you would have\", \"you'll\": \"you will\", \n",
    "                   \"you'll've\": \"you will have\", \"you're\": \"you are\", \"you've\": \"you have\" }"
   ]
  },
  {
   "cell_type": "code",
   "execution_count": 12,
   "metadata": {},
   "outputs": [],
   "source": [
    "#pip install spacy\n",
    "#pip install unidecode"
   ]
  },
  {
   "cell_type": "code",
   "execution_count": 13,
   "metadata": {},
   "outputs": [],
   "source": [
    "# !python3 -m spacy download en"
   ]
  },
  {
   "cell_type": "code",
   "execution_count": 10,
   "metadata": {},
   "outputs": [],
   "source": [
    "def replace_emoji(data):\n",
    "    for i in range(len(data)):\n",
    "        data[i]=emoji.demojize(data[i], delimiters=(' ',''))\n",
    "    return data"
   ]
  },
  {
   "cell_type": "code",
   "execution_count": 11,
   "metadata": {},
   "outputs": [
    {
     "name": "stderr",
     "output_type": "stream",
     "text": [
      "/home/prem/anaconda3/lib/python3.7/site-packages/ipykernel_launcher.py:3: SettingWithCopyWarning: \n",
      "A value is trying to be set on a copy of a slice from a DataFrame\n",
      "\n",
      "See the caveats in the documentation: http://pandas.pydata.org/pandas-docs/stable/indexing.html#indexing-view-versus-copy\n",
      "  This is separate from the ipykernel package so we can avoid doing imports until\n"
     ]
    },
    {
     "data": {
      "text/plain": [
       "'Impressive chart. Snapchat $SNAP  No. 25 rank overall (out of 5,362).'"
      ]
     },
     "execution_count": 11,
     "metadata": {},
     "output_type": "execute_result"
    }
   ],
   "source": [
    "data = replace_emoji(data)\n",
    "data[4]"
   ]
  },
  {
   "cell_type": "code",
   "execution_count": 12,
   "metadata": {},
   "outputs": [],
   "source": [
    "apostrophe_handled = []\n",
    "for text in data: \n",
    "    apostrophe_handled.append(re.sub(\"’\", \"'\", text))"
   ]
  },
  {
   "cell_type": "code",
   "execution_count": 13,
   "metadata": {},
   "outputs": [],
   "source": [
    "expanded = []\n",
    "for text in apostrophe_handled:\n",
    "    expanded.append(' '.join([contraction_mapping[t] if t in contraction_mapping else t for t in text.split(\" \")]))\n",
    "    \n",
    "#expanded"
   ]
  },
  {
   "cell_type": "code",
   "execution_count": 14,
   "metadata": {},
   "outputs": [],
   "source": [
    "joined = []\n",
    "for text in expanded:\n",
    "    parsed = nlp(text)\n",
    "    final_tokens = []\n",
    "    for t in parsed:\n",
    "        if t.is_punct or t.is_space or t.like_num or t.like_url or str(t).startswith('@'):\n",
    "            pass\n",
    "        else:\n",
    "            if t.lemma_ == '-PRON-':\n",
    "                final_tokens.append(str(t))\n",
    "            else:\n",
    "                sc_removed = re.sub(\"[^a-zA-Z]\", '', str(t.lemma_))\n",
    "                if len(sc_removed) > 1:\n",
    "                    final_tokens.append(sc_removed)\n",
    "    joined.append(' '.join(final_tokens))"
   ]
  },
  {
   "cell_type": "code",
   "execution_count": 15,
   "metadata": {},
   "outputs": [],
   "source": [
    "#joined"
   ]
  },
  {
   "cell_type": "code",
   "execution_count": 16,
   "metadata": {},
   "outputs": [],
   "source": [
    "spell_corrected = []\n",
    "for text in joined:\n",
    "    spell_corrected.append(re.sub(r'(.)\\1+', r'\\1\\1', text).lower())"
   ]
  },
  {
   "cell_type": "code",
   "execution_count": 17,
   "metadata": {},
   "outputs": [],
   "source": [
    "#spell_corrected"
   ]
  },
  {
   "cell_type": "code",
   "execution_count": 18,
   "metadata": {},
   "outputs": [],
   "source": [
    "df['cleaned_message'] = spell_corrected"
   ]
  },
  {
   "cell_type": "code",
   "execution_count": 19,
   "metadata": {},
   "outputs": [
    {
     "data": {
      "text/html": [
       "<div>\n",
       "<style scoped>\n",
       "    .dataframe tbody tr th:only-of-type {\n",
       "        vertical-align: middle;\n",
       "    }\n",
       "\n",
       "    .dataframe tbody tr th {\n",
       "        vertical-align: top;\n",
       "    }\n",
       "\n",
       "    .dataframe thead th {\n",
       "        text-align: right;\n",
       "    }\n",
       "</style>\n",
       "<table border=\"1\" class=\"dataframe\">\n",
       "  <thead>\n",
       "    <tr style=\"text-align: right;\">\n",
       "      <th></th>\n",
       "      <th>sentiment</th>\n",
       "      <th>message</th>\n",
       "      <th>userfollowers</th>\n",
       "      <th>user_likecount</th>\n",
       "      <th>message_likes</th>\n",
       "      <th>message_date</th>\n",
       "      <th>cleaned_message</th>\n",
       "    </tr>\n",
       "  </thead>\n",
       "  <tbody>\n",
       "    <tr>\n",
       "      <th>0</th>\n",
       "      <td>Bullish</td>\n",
       "      <td>TD BUY $DBX at 19.13, Supp 18.78 Resis 20.35 R...</td>\n",
       "      <td>2512</td>\n",
       "      <td>1033</td>\n",
       "      <td>1.0</td>\n",
       "      <td>2020-09-30</td>\n",
       "      <td>td buy dbx at supp resis hilo ty buy pe div dr...</td>\n",
       "    </tr>\n",
       "    <tr>\n",
       "      <th>1</th>\n",
       "      <td>Bullish</td>\n",
       "      <td>$DBX $CCL $GPRO $NAT I&amp;#39;m not one to bash a...</td>\n",
       "      <td>100</td>\n",
       "      <td>1674</td>\n",
       "      <td>2.0</td>\n",
       "      <td>2020-09-29</td>\n",
       "      <td>dbx ccl gpro nat im not to bash anyone but peo...</td>\n",
       "    </tr>\n",
       "    <tr>\n",
       "      <th>2</th>\n",
       "      <td>Bullish</td>\n",
       "      <td>Same deal with $SNAP, another Box-Trigger/pote...</td>\n",
       "      <td>32523</td>\n",
       "      <td>2825</td>\n",
       "      <td>2.0</td>\n",
       "      <td>2020-09-28</td>\n",
       "      <td>same deal with snap another box trigger potent...</td>\n",
       "    </tr>\n",
       "    <tr>\n",
       "      <th>3</th>\n",
       "      <td>Bullish</td>\n",
       "      <td>Took some $SNAP $26.50c this week at .25</td>\n",
       "      <td>1163</td>\n",
       "      <td>6895</td>\n",
       "      <td>4.0</td>\n",
       "      <td>2020-09-28</td>\n",
       "      <td>take some snap this week at</td>\n",
       "    </tr>\n",
       "    <tr>\n",
       "      <th>4</th>\n",
       "      <td>Bullish</td>\n",
       "      <td>Impressive chart. Snapchat $SNAP  No. 25 rank ...</td>\n",
       "      <td>57161</td>\n",
       "      <td>23</td>\n",
       "      <td>3.0</td>\n",
       "      <td>2020-09-28</td>\n",
       "      <td>impressive chart snapchat snap no rank overall...</td>\n",
       "    </tr>\n",
       "    <tr>\n",
       "      <th>5</th>\n",
       "      <td>Bullish</td>\n",
       "      <td>$CHGG Big candle, back to 80s soon</td>\n",
       "      <td>92</td>\n",
       "      <td>515</td>\n",
       "      <td>3.0</td>\n",
       "      <td>2020-09-28</td>\n",
       "      <td>chgg big candle back to soon</td>\n",
       "    </tr>\n",
       "    <tr>\n",
       "      <th>6</th>\n",
       "      <td>Bullish</td>\n",
       "      <td>$CHGG $75 this week</td>\n",
       "      <td>608</td>\n",
       "      <td>31368</td>\n",
       "      <td>6.0</td>\n",
       "      <td>2020-09-27</td>\n",
       "      <td>chgg this week</td>\n",
       "    </tr>\n",
       "    <tr>\n",
       "      <th>7</th>\n",
       "      <td>Bullish</td>\n",
       "      <td>$CHGG approaching strike</td>\n",
       "      <td>22056</td>\n",
       "      <td>5569</td>\n",
       "      <td>NaN</td>\n",
       "      <td>2020-09-25</td>\n",
       "      <td>chgg approach strike</td>\n",
       "    </tr>\n",
       "    <tr>\n",
       "      <th>8</th>\n",
       "      <td>Bullish</td>\n",
       "      <td>$CHGG needs a 70$ close or above to start the ...</td>\n",
       "      <td>150</td>\n",
       "      <td>8059</td>\n",
       "      <td>2.0</td>\n",
       "      <td>2020-09-25</td>\n",
       "      <td>chgg need close or above to start the next leg...</td>\n",
       "    </tr>\n",
       "    <tr>\n",
       "      <th>9</th>\n",
       "      <td>Bullish</td>\n",
       "      <td>$CHGG patience</td>\n",
       "      <td>150</td>\n",
       "      <td>8059</td>\n",
       "      <td>2.0</td>\n",
       "      <td>2020-09-25</td>\n",
       "      <td>chgg patience</td>\n",
       "    </tr>\n",
       "  </tbody>\n",
       "</table>\n",
       "</div>"
      ],
      "text/plain": [
       "  sentiment                                            message  userfollowers  \\\n",
       "0   Bullish  TD BUY $DBX at 19.13, Supp 18.78 Resis 20.35 R...           2512   \n",
       "1   Bullish  $DBX $CCL $GPRO $NAT I&#39;m not one to bash a...            100   \n",
       "2   Bullish  Same deal with $SNAP, another Box-Trigger/pote...          32523   \n",
       "3   Bullish           Took some $SNAP $26.50c this week at .25           1163   \n",
       "4   Bullish  Impressive chart. Snapchat $SNAP  No. 25 rank ...          57161   \n",
       "5   Bullish                 $CHGG Big candle, back to 80s soon             92   \n",
       "6   Bullish                                $CHGG $75 this week            608   \n",
       "7   Bullish                           $CHGG approaching strike          22056   \n",
       "8   Bullish  $CHGG needs a 70$ close or above to start the ...            150   \n",
       "9   Bullish                                     $CHGG patience            150   \n",
       "\n",
       "   user_likecount  message_likes message_date  \\\n",
       "0            1033            1.0   2020-09-30   \n",
       "1            1674            2.0   2020-09-29   \n",
       "2            2825            2.0   2020-09-28   \n",
       "3            6895            4.0   2020-09-28   \n",
       "4              23            3.0   2020-09-28   \n",
       "5             515            3.0   2020-09-28   \n",
       "6           31368            6.0   2020-09-27   \n",
       "7            5569            NaN   2020-09-25   \n",
       "8            8059            2.0   2020-09-25   \n",
       "9            8059            2.0   2020-09-25   \n",
       "\n",
       "                                     cleaned_message  \n",
       "0  td buy dbx at supp resis hilo ty buy pe div dr...  \n",
       "1  dbx ccl gpro nat im not to bash anyone but peo...  \n",
       "2  same deal with snap another box trigger potent...  \n",
       "3                        take some snap this week at  \n",
       "4  impressive chart snapchat snap no rank overall...  \n",
       "5                       chgg big candle back to soon  \n",
       "6                                     chgg this week  \n",
       "7                               chgg approach strike  \n",
       "8  chgg need close or above to start the next leg...  \n",
       "9                                      chgg patience  "
      ]
     },
     "execution_count": 19,
     "metadata": {},
     "output_type": "execute_result"
    }
   ],
   "source": [
    "df.head(10)"
   ]
  },
  {
   "cell_type": "code",
   "execution_count": 20,
   "metadata": {},
   "outputs": [
    {
     "data": {
      "text/html": [
       "<div>\n",
       "<style scoped>\n",
       "    .dataframe tbody tr th:only-of-type {\n",
       "        vertical-align: middle;\n",
       "    }\n",
       "\n",
       "    .dataframe tbody tr th {\n",
       "        vertical-align: top;\n",
       "    }\n",
       "\n",
       "    .dataframe thead th {\n",
       "        text-align: right;\n",
       "    }\n",
       "</style>\n",
       "<table border=\"1\" class=\"dataframe\">\n",
       "  <thead>\n",
       "    <tr style=\"text-align: right;\">\n",
       "      <th></th>\n",
       "      <th>sentiment</th>\n",
       "      <th>cleaned_message</th>\n",
       "    </tr>\n",
       "  </thead>\n",
       "  <tbody>\n",
       "    <tr>\n",
       "      <th>0</th>\n",
       "      <td>Bullish</td>\n",
       "      <td>td buy dbx at supp resis hilo ty buy pe div dr...</td>\n",
       "    </tr>\n",
       "    <tr>\n",
       "      <th>1</th>\n",
       "      <td>Bullish</td>\n",
       "      <td>dbx ccl gpro nat im not to bash anyone but peo...</td>\n",
       "    </tr>\n",
       "    <tr>\n",
       "      <th>2</th>\n",
       "      <td>Bullish</td>\n",
       "      <td>same deal with snap another box trigger potent...</td>\n",
       "    </tr>\n",
       "    <tr>\n",
       "      <th>3</th>\n",
       "      <td>Bullish</td>\n",
       "      <td>take some snap this week at</td>\n",
       "    </tr>\n",
       "    <tr>\n",
       "      <th>4</th>\n",
       "      <td>Bullish</td>\n",
       "      <td>impressive chart snapchat snap no rank overall...</td>\n",
       "    </tr>\n",
       "  </tbody>\n",
       "</table>\n",
       "</div>"
      ],
      "text/plain": [
       "  sentiment                                    cleaned_message\n",
       "0   Bullish  td buy dbx at supp resis hilo ty buy pe div dr...\n",
       "1   Bullish  dbx ccl gpro nat im not to bash anyone but peo...\n",
       "2   Bullish  same deal with snap another box trigger potent...\n",
       "3   Bullish                        take some snap this week at\n",
       "4   Bullish  impressive chart snapchat snap no rank overall..."
      ]
     },
     "execution_count": 20,
     "metadata": {},
     "output_type": "execute_result"
    }
   ],
   "source": [
    "df.drop(columns=['message','userfollowers','user_likecount','message_likes','message_date'],axis=1,inplace=True)\n",
    "df.head()"
   ]
  },
  {
   "cell_type": "code",
   "execution_count": 21,
   "metadata": {},
   "outputs": [
    {
     "data": {
      "text/plain": [
       "(4071, 2)"
      ]
     },
     "execution_count": 21,
     "metadata": {},
     "output_type": "execute_result"
    }
   ],
   "source": [
    "df.shape"
   ]
  },
  {
   "cell_type": "code",
   "execution_count": 22,
   "metadata": {},
   "outputs": [
    {
     "data": {
      "text/plain": [
       "index                                                           4070\n",
       "sentiment                                                    Bearish\n",
       "cleaned_message    spy amzn amp fb at major resistance could not ...\n",
       "Name: 3670, dtype: object"
      ]
     },
     "execution_count": 22,
     "metadata": {},
     "output_type": "execute_result"
    }
   ],
   "source": [
    "df.drop_duplicates(inplace=True)\n",
    "df.reset_index(inplace=True)\n",
    "df.iloc[-1,:]"
   ]
  },
  {
   "cell_type": "code",
   "execution_count": 23,
   "metadata": {},
   "outputs": [
    {
     "data": {
      "text/plain": [
       "Bullish    2770\n",
       "Bearish     901\n",
       "Name: sentiment, dtype: int64"
      ]
     },
     "execution_count": 23,
     "metadata": {},
     "output_type": "execute_result"
    }
   ],
   "source": [
    "value = df['sentiment'].value_counts()\n",
    "value"
   ]
  },
  {
   "cell_type": "code",
   "execution_count": 50,
   "metadata": {},
   "outputs": [],
   "source": [
    "#import os\n",
    "#os.chdir(\"/home/prem/Documents/Modelling in operational management\")\n",
    "#df.to_csv(\"Cleaned_Stocktwits_Dataset1.csv\",index=False)"
   ]
  },
  {
   "cell_type": "code",
   "execution_count": 25,
   "metadata": {},
   "outputs": [],
   "source": [
    "import matplotlib.pyplot as plt\n",
    "import seaborn as sns"
   ]
  },
  {
   "cell_type": "code",
   "execution_count": 26,
   "metadata": {},
   "outputs": [
    {
     "data": {
      "image/png": "[encoded data removed]",
      "text/plain": [
       "<Figure size 432x288 with 1 Axes>"
      ]
     },
     "metadata": {},
     "output_type": "display_data"
    }
   ],
   "source": [
    "plt.pie(value,autopct='%1.1f%%',labels=['Bearish','Bullish'])\n",
    "plt.show()"
   ]
  },
  {
   "cell_type": "code",
   "execution_count": 27,
   "metadata": {},
   "outputs": [],
   "source": [
    "import numpy as np"
   ]
  },
  {
   "cell_type": "code",
   "execution_count": 28,
   "metadata": {},
   "outputs": [],
   "source": [
    "from sklearn.linear_model import LogisticRegression\n",
    "from sklearn.feature_extraction.text import TfidfVectorizer\n",
    "\n",
    "from sklearn.metrics import classification_report, confusion_matrix, precision_score, recall_score, f1_score"
   ]
  },
  {
   "cell_type": "code",
   "execution_count": 29,
   "metadata": {},
   "outputs": [],
   "source": [
    "tvec = TfidfVectorizer(stop_words=None, max_features=100000, ngram_range=(1, 3))\n",
    "lr = LogisticRegression(solver='lbfgs')\n",
    "\n",
    "from sklearn.model_selection import StratifiedKFold\n",
    "\n",
    "def lr_cv(splits, X, Y, pipeline, average_method):\n",
    "    \n",
    "    kfold = StratifiedKFold(n_splits=splits, shuffle=True, random_state=777)\n",
    "    accuracy = []\n",
    "    precision = []\n",
    "    recall = []\n",
    "    f1 = []\n",
    "    \n",
    "    correctly_classified = []\n",
    "    for train, test in kfold.split(X, Y):\n",
    "        lr_fit = pipeline.fit(X[train], Y[train])\n",
    "        prediction = lr_fit.predict(X[test])\n",
    "        scores = lr_fit.score(X[test],Y[test])\n",
    "        \n",
    "        conmat = np.array(confusion_matrix(Y[test], prediction))\n",
    "        correctly_classified.append(conmat[0][0]+conmat[1][1])\n",
    "        confusion = pd.DataFrame(conmat, index=['Bearish', 'Bullish'],\n",
    "                         columns=['predicted_Bearish','predicted_Bullish'])\n",
    "        print(confusion)\n",
    "        print('\\n')\n",
    "        \n",
    "        accuracy.append(scores * 100)\n",
    "        precision.append(precision_score(Y[test], prediction, average=average_method)*100)\n",
    "        print('              Bearish    Bullish')\n",
    "        print('precision:',precision_score(Y[test], prediction, average=None))\n",
    "        recall.append(recall_score(Y[test], prediction, average=average_method)*100)\n",
    "        print('recall:   ',recall_score(Y[test], prediction, average=None))\n",
    "        f1.append(f1_score(Y[test], prediction, average=average_method)*100)\n",
    "        print('f1 score: ',f1_score(Y[test], prediction, average=None))\n",
    "        \n",
    "        #print(\"Classification Report\\n\")\n",
    "        #print(classification_report(Y[test], prediction))\n",
    "        print('-'*50)\n",
    "\n",
    "    print(\"accuracy: %.2f%% (+/- %.2f%%)\" % (np.mean(accuracy), np.std(accuracy)))\n",
    "    print(\"precision: %.2f%% (+/- %.2f%%)\" % (np.mean(precision), np.std(precision)))\n",
    "    print(\"recall: %.2f%% (+/- %.2f%%)\" % (np.mean(recall), np.std(recall)))\n",
    "    print(\"f1 score: %.2f%% (+/- %.2f%%)\" % (np.mean(f1), np.std(f1)))\n",
    "    return sum(correctly_classified)"
   ]
  },
  {
   "cell_type": "code",
   "execution_count": 30,
   "metadata": {},
   "outputs": [
    {
     "name": "stdout",
     "output_type": "stream",
     "text": [
      "         predicted_Bearish  predicted_Bullish\n",
      "Bearish                  5                295\n",
      "Bullish                  0                924\n",
      "\n",
      "\n",
      "              Bearish    Bullish\n",
      "precision: [1.         0.75799836]\n",
      "recall:    [0.01666667 1.        ]\n",
      "f1 score:  [0.03278689 0.86234251]\n",
      "--------------------------------------------------\n",
      "         predicted_Bearish  predicted_Bullish\n",
      "Bearish                  6                295\n",
      "Bullish                  2                921\n",
      "\n",
      "\n",
      "              Bearish    Bullish\n",
      "precision: [0.75       0.75740132]\n",
      "recall:    [0.01993355 0.99783315]\n",
      "f1 score:  [0.03883495 0.86115007]\n",
      "--------------------------------------------------\n",
      "         predicted_Bearish  predicted_Bullish\n",
      "Bearish                  3                297\n",
      "Bullish                  3                920\n",
      "\n",
      "\n",
      "              Bearish    Bullish\n",
      "precision: [0.5        0.75595727]\n",
      "recall:    [0.01       0.99674973]\n",
      "f1 score:  [0.01960784 0.85981308]\n",
      "--------------------------------------------------\n",
      "accuracy: 75.70% (+/- 0.18%)\n",
      "precision: 75.36% (+/- 10.25%)\n",
      "recall: 50.69% (+/- 0.25%)\n",
      "f1 score: 44.58% (+/- 0.44%)\n"
     ]
    },
    {
     "data": {
      "text/plain": [
       "2779"
      ]
     },
     "execution_count": 30,
     "metadata": {},
     "output_type": "execute_result"
    }
   ],
   "source": [
    "from sklearn.pipeline import Pipeline\n",
    "\n",
    "original_pipeline = Pipeline([('vectorizer', tvec),('classifier', lr)])\n",
    "imbalance_correctly_classified = lr_cv(3, df.cleaned_message,df.sentiment, original_pipeline, 'macro')\n",
    "imbalance_correctly_classified"
   ]
  },
  {
   "cell_type": "markdown",
   "metadata": {},
   "source": [
    "# Handle Imbalance Dataset"
   ]
  },
  {
   "cell_type": "code",
   "execution_count": 31,
   "metadata": {},
   "outputs": [],
   "source": [
    "#pip install -U imbalanced-learn"
   ]
  },
  {
   "cell_type": "code",
   "execution_count": 32,
   "metadata": {},
   "outputs": [],
   "source": [
    "from imblearn.pipeline import make_pipeline\n",
    "from imblearn.over_sampling import ADASYN, SMOTE, RandomOverSampler"
   ]
  },
  {
   "cell_type": "markdown",
   "metadata": {},
   "source": [
    "#### Over-Sampling"
   ]
  },
  {
   "cell_type": "code",
   "execution_count": 33,
   "metadata": {},
   "outputs": [],
   "source": [
    "ROS_pipeline = make_pipeline(tvec, RandomOverSampler(random_state=777),lr)"
   ]
  },
  {
   "cell_type": "code",
   "execution_count": 34,
   "metadata": {
    "scrolled": true
   },
   "outputs": [
    {
     "name": "stdout",
     "output_type": "stream",
     "text": [
      "         predicted_Bearish  predicted_Bullish\n",
      "Bearish                145                155\n",
      "Bullish                105                819\n",
      "\n",
      "\n",
      "              Bearish    Bullish\n",
      "precision: [0.58       0.84086242]\n",
      "recall:    [0.48333333 0.88636364]\n",
      "f1 score:  [0.52727273 0.8630137 ]\n",
      "--------------------------------------------------\n",
      "         predicted_Bearish  predicted_Bullish\n",
      "Bearish                152                149\n",
      "Bullish                128                795\n",
      "\n",
      "\n",
      "              Bearish    Bullish\n",
      "precision: [0.54285714 0.84216102]\n",
      "recall:    [0.50498339 0.86132178]\n",
      "f1 score:  [0.5232358  0.85163364]\n",
      "--------------------------------------------------\n",
      "         predicted_Bearish  predicted_Bullish\n",
      "Bearish                164                136\n",
      "Bullish                150                773\n",
      "\n",
      "\n",
      "              Bearish    Bullish\n",
      "precision: [0.52229299 0.85038504]\n",
      "recall:    [0.54666667 0.83748646]\n",
      "f1 score:  [0.53420195 0.84388646]\n",
      "--------------------------------------------------\n",
      "accuracy: 77.58% (+/- 0.89%)\n",
      "precision: 69.64% (+/- 1.02%)\n",
      "recall: 68.67% (+/- 0.39%)\n",
      "f1 score: 69.05% (+/- 0.33%)\n"
     ]
    },
    {
     "data": {
      "text/plain": [
       "2848"
      ]
     },
     "execution_count": 34,
     "metadata": {},
     "output_type": "execute_result"
    }
   ],
   "source": [
    "oversampling_correctly_classified = lr_cv(3, df.cleaned_message, df.sentiment, ROS_pipeline, 'macro')\n",
    "oversampling_correctly_classified"
   ]
  },
  {
   "cell_type": "markdown",
   "metadata": {},
   "source": [
    "#### SMOTE - Synthetic Minority Over-Sampling Technique"
   ]
  },
  {
   "cell_type": "code",
   "execution_count": 35,
   "metadata": {},
   "outputs": [],
   "source": [
    "SMOTE_pipeline = make_pipeline(tvec, SMOTE(random_state=777),lr)"
   ]
  },
  {
   "cell_type": "code",
   "execution_count": 36,
   "metadata": {},
   "outputs": [
    {
     "name": "stdout",
     "output_type": "stream",
     "text": [
      "         predicted_Bearish  predicted_Bullish\n",
      "Bearish                159                141\n",
      "Bullish                146                778\n",
      "\n",
      "\n",
      "              Bearish    Bullish\n",
      "precision: [0.52131148 0.84657236]\n",
      "recall:    [0.53       0.84199134]\n",
      "f1 score:  [0.52561983 0.84427564]\n",
      "--------------------------------------------------\n",
      "         predicted_Bearish  predicted_Bullish\n",
      "Bearish                163                138\n",
      "Bullish                159                764\n",
      "\n",
      "\n",
      "              Bearish    Bullish\n",
      "precision: [0.50621118 0.84700665]\n",
      "recall:    [0.54152824 0.82773564]\n",
      "f1 score:  [0.52327448 0.83726027]\n",
      "--------------------------------------------------\n",
      "         predicted_Bearish  predicted_Bullish\n",
      "Bearish                169                131\n",
      "Bullish                195                728\n",
      "\n",
      "\n",
      "              Bearish    Bullish\n",
      "precision: [0.46428571 0.84749709]\n",
      "recall:    [0.56333333 0.78873239]\n",
      "f1 score:  [0.50903614 0.81705948]\n",
      "--------------------------------------------------\n",
      "accuracy: 75.21% (+/- 1.36%)\n",
      "precision: 67.21% (+/- 1.19%)\n",
      "recall: 68.22% (+/- 0.44%)\n",
      "f1 score: 67.61% (+/- 0.94%)\n"
     ]
    },
    {
     "data": {
      "text/plain": [
       "2761"
      ]
     },
     "execution_count": 36,
     "metadata": {},
     "output_type": "execute_result"
    }
   ],
   "source": [
    "smote_correctly_classified = lr_cv(3, df.cleaned_message, df.sentiment, SMOTE_pipeline, 'macro')\n",
    "smote_correctly_classified"
   ]
  },
  {
   "cell_type": "markdown",
   "metadata": {},
   "source": [
    "#### Random UnderSampling"
   ]
  },
  {
   "cell_type": "code",
   "execution_count": 37,
   "metadata": {},
   "outputs": [],
   "source": [
    "from imblearn.under_sampling import NearMiss, RandomUnderSampler\n",
    "RUS_pipeline = make_pipeline(tvec, RandomUnderSampler(random_state=777),lr)\n",
    "NM1_pipeline = make_pipeline(tvec, NearMiss(sampling_strategy='not minority', version = 1),lr)\n",
    "NM2_pipeline = make_pipeline(tvec, NearMiss(sampling_strategy='not minority', version = 2),lr)\n",
    "NM3_pipeline = make_pipeline(tvec, NearMiss(sampling_strategy='not minority',version = 3, n_neighbors_ver3=4),lr)"
   ]
  },
  {
   "cell_type": "code",
   "execution_count": 38,
   "metadata": {},
   "outputs": [
    {
     "name": "stdout",
     "output_type": "stream",
     "text": [
      "         predicted_Bearish  predicted_Bullish\n",
      "Bearish                233                 67\n",
      "Bullish                328                596\n",
      "\n",
      "\n",
      "              Bearish    Bullish\n",
      "precision: [0.41532977 0.89894419]\n",
      "recall:    [0.77666667 0.64502165]\n",
      "f1 score:  [0.54123113 0.75110271]\n",
      "--------------------------------------------------\n",
      "         predicted_Bearish  predicted_Bullish\n",
      "Bearish                225                 76\n",
      "Bullish                306                617\n",
      "\n",
      "\n",
      "              Bearish    Bullish\n",
      "precision: [0.42372881 0.89033189]\n",
      "recall:    [0.74750831 0.66847237]\n",
      "f1 score:  [0.54086538 0.76361386]\n",
      "--------------------------------------------------\n",
      "         predicted_Bearish  predicted_Bullish\n",
      "Bearish                245                 55\n",
      "Bullish                354                569\n",
      "\n",
      "\n",
      "              Bearish    Bullish\n",
      "precision: [0.40901503 0.91185897]\n",
      "recall:    [0.81666667 0.61646804]\n",
      "f1 score:  [0.54505006 0.73561732]\n",
      "--------------------------------------------------\n",
      "accuracy: 67.69% (+/- 0.91%)\n",
      "precision: 65.82% (+/- 0.16%)\n",
      "recall: 71.18% (+/- 0.36%)\n",
      "f1 score: 64.62% (+/- 0.49%)\n"
     ]
    },
    {
     "data": {
      "text/plain": [
       "2485"
      ]
     },
     "execution_count": 38,
     "metadata": {},
     "output_type": "execute_result"
    }
   ],
   "source": [
    "undersampling_correctly_classified = lr_cv(3, df.cleaned_message, df.sentiment, RUS_pipeline, 'macro')\n",
    "undersampling_correctly_classified"
   ]
  },
  {
   "cell_type": "markdown",
   "metadata": {},
   "source": [
    "#### Near-Miss 1"
   ]
  },
  {
   "cell_type": "code",
   "execution_count": 39,
   "metadata": {},
   "outputs": [
    {
     "name": "stdout",
     "output_type": "stream",
     "text": [
      "         predicted_Bearish  predicted_Bullish\n",
      "Bearish                246                 54\n",
      "Bullish                459                465\n",
      "\n",
      "\n",
      "              Bearish    Bullish\n",
      "precision: [0.34893617 0.89595376]\n",
      "recall:    [0.82       0.50324675]\n",
      "f1 score:  [0.48955224 0.64449064]\n",
      "--------------------------------------------------\n",
      "         predicted_Bearish  predicted_Bullish\n",
      "Bearish                230                 71\n",
      "Bullish                443                480\n",
      "\n",
      "\n",
      "              Bearish    Bullish\n",
      "precision: [0.34175334 0.87114338]\n",
      "recall:    [0.7641196  0.52004334]\n",
      "f1 score:  [0.47227926 0.65128901]\n",
      "--------------------------------------------------\n",
      "         predicted_Bearish  predicted_Bullish\n",
      "Bearish                243                 57\n",
      "Bullish                467                456\n",
      "\n",
      "\n",
      "              Bearish    Bullish\n",
      "precision: [0.34225352 0.88888889]\n",
      "recall:    [0.81       0.49404117]\n",
      "f1 score:  [0.48118812 0.63509749]\n",
      "--------------------------------------------------\n",
      "accuracy: 57.75% (+/- 0.42%)\n",
      "precision: 61.48% (+/- 0.66%)\n",
      "recall: 65.19% (+/- 0.80%)\n",
      "f1 score: 56.23% (+/- 0.36%)\n"
     ]
    },
    {
     "data": {
      "text/plain": [
       "2120"
      ]
     },
     "execution_count": 39,
     "metadata": {},
     "output_type": "execute_result"
    }
   ],
   "source": [
    "near_miss1 = lr_cv(3, df.cleaned_message, df.sentiment, NM1_pipeline, 'macro')\n",
    "near_miss1"
   ]
  },
  {
   "cell_type": "markdown",
   "metadata": {},
   "source": [
    "#### Near Miss 2"
   ]
  },
  {
   "cell_type": "code",
   "execution_count": 40,
   "metadata": {},
   "outputs": [
    {
     "name": "stdout",
     "output_type": "stream",
     "text": [
      "         predicted_Bearish  predicted_Bullish\n",
      "Bearish                185                115\n",
      "Bullish                321                603\n",
      "\n",
      "\n",
      "              Bearish    Bullish\n",
      "precision: [0.36561265 0.83983287]\n",
      "recall:    [0.61666667 0.6525974 ]\n",
      "f1 score:  [0.45905707 0.73447016]\n",
      "--------------------------------------------------\n",
      "         predicted_Bearish  predicted_Bullish\n",
      "Bearish                181                120\n",
      "Bullish                312                611\n",
      "\n",
      "\n",
      "              Bearish    Bullish\n",
      "precision: [0.36713996 0.83584131]\n",
      "recall:    [0.6013289  0.66197183]\n",
      "f1 score:  [0.4559194  0.73881499]\n",
      "--------------------------------------------------\n",
      "         predicted_Bearish  predicted_Bullish\n",
      "Bearish                167                133\n",
      "Bullish                344                579\n",
      "\n",
      "\n",
      "              Bearish    Bullish\n",
      "precision: [0.32681018 0.81320225]\n",
      "recall:    [0.55666667 0.62730228]\n",
      "f1 score:  [0.41183724 0.70825688]\n",
      "--------------------------------------------------\n",
      "accuracy: 63.36% (+/- 1.68%)\n",
      "precision: 59.14% (+/- 1.51%)\n",
      "recall: 61.94% (+/- 1.94%)\n",
      "f1 score: 58.47% (+/- 1.75%)\n"
     ]
    },
    {
     "data": {
      "text/plain": [
       "2326"
      ]
     },
     "execution_count": 40,
     "metadata": {},
     "output_type": "execute_result"
    }
   ],
   "source": [
    "near_miss2 = lr_cv(3, df.cleaned_message, df.sentiment, NM2_pipeline, 'macro')\n",
    "near_miss2"
   ]
  },
  {
   "cell_type": "markdown",
   "metadata": {},
   "source": [
    "#### Near Miss 3"
   ]
  },
  {
   "cell_type": "code",
   "execution_count": 41,
   "metadata": {},
   "outputs": [
    {
     "name": "stdout",
     "output_type": "stream",
     "text": [
      "         predicted_Bearish  predicted_Bullish\n",
      "Bearish                185                115\n",
      "Bullish                321                603\n",
      "\n",
      "\n",
      "              Bearish    Bullish\n",
      "precision: [0.36561265 0.83983287]\n",
      "recall:    [0.61666667 0.6525974 ]\n",
      "f1 score:  [0.45905707 0.73447016]\n",
      "--------------------------------------------------\n",
      "         predicted_Bearish  predicted_Bullish\n",
      "Bearish                181                120\n",
      "Bullish                312                611\n",
      "\n",
      "\n",
      "              Bearish    Bullish\n",
      "precision: [0.36713996 0.83584131]\n",
      "recall:    [0.6013289  0.66197183]\n",
      "f1 score:  [0.4559194  0.73881499]\n",
      "--------------------------------------------------\n",
      "         predicted_Bearish  predicted_Bullish\n",
      "Bearish                167                133\n",
      "Bullish                344                579\n",
      "\n",
      "\n",
      "              Bearish    Bullish\n",
      "precision: [0.32681018 0.81320225]\n",
      "recall:    [0.55666667 0.62730228]\n",
      "f1 score:  [0.41183724 0.70825688]\n",
      "--------------------------------------------------\n",
      "accuracy: 63.36% (+/- 1.68%)\n",
      "precision: 59.14% (+/- 1.51%)\n",
      "recall: 61.94% (+/- 1.94%)\n",
      "f1 score: 58.47% (+/- 1.75%)\n"
     ]
    },
    {
     "data": {
      "text/plain": [
       "2326"
      ]
     },
     "execution_count": 41,
     "metadata": {},
     "output_type": "execute_result"
    }
   ],
   "source": [
    "near_miss3 = lr_cv(3, df.cleaned_message, df.sentiment, NM2_pipeline, 'macro')\n",
    "near_miss3"
   ]
  },
  {
   "cell_type": "code",
   "execution_count": 42,
   "metadata": {},
   "outputs": [
    {
     "data": {
      "image/png": "[encoded data removed]",
      "text/plain": [
       "<Figure size 800x480 with 1 Axes>"
      ]
     },
     "metadata": {},
     "output_type": "display_data"
    }
   ],
   "source": [
    "correctly_classified = [imbalance_correctly_classified,oversampling_correctly_classified,smote_correctly_classified,undersampling_correctly_classified,near_miss1,near_miss2,near_miss3]\n",
    "labels = ['Imbalanced','Over-Sampling','SMOTE','Under-Sampling','Near-Miss 1','Near Miss 2','Near Miss 3']\n",
    "#plt.bar(labels,correctly_classified,color = ['red','green','blue','yellow','black','orange','violet'])\n",
    "\n",
    "plt.figure(num=None, figsize=(10, 6), dpi=80, facecolor='w', edgecolor='k')\n",
    "plt.ylim([1200,1650])\n",
    "sns.barplot(x = labels,y= correctly_classified)\n",
    "\n",
    "plt.title(\"Performance of Different-Different Imbalance Dataset Handling Techniques\")\n",
    "plt.xlabel(\"Techiniques for Handling Imbalance Dataset\")\n",
    "plt.ylabel(\"Number of Correctly Classified\")\n",
    "plt.show()"
   ]
  },
  {
   "cell_type": "markdown",
   "metadata": {},
   "source": [
    "Here we conclude that Oversampling and Smote Technique is better than other sampling technique because it better in F1-score as well as it's Accuracy."
   ]
  },
  {
   "cell_type": "markdown",
   "metadata": {},
   "source": [
    "## Use ML Techniques"
   ]
  },
  {
   "cell_type": "markdown",
   "metadata": {},
   "source": [
    "#### RANDOM FOREST"
   ]
  },
  {
   "cell_type": "code",
   "execution_count": 43,
   "metadata": {},
   "outputs": [],
   "source": [
    "from sklearn.ensemble import RandomForestClassifier\n",
    "# Instantiate model with 100 decision trees\n",
    "rf = RandomForestClassifier(n_estimators = 100, random_state = 42,criterion ='entropy')"
   ]
  },
  {
   "cell_type": "code",
   "execution_count": 44,
   "metadata": {},
   "outputs": [],
   "source": [
    "from sklearn.model_selection import train_test_split\n",
    "\n",
    "X_train, X_test, y_train, y_test = train_test_split(df.cleaned_message,df.sentiment,test_size=0.25,random_state=32)"
   ]
  },
  {
   "cell_type": "code",
   "execution_count": 45,
   "metadata": {},
   "outputs": [],
   "source": [
    "#from sklearn.feature_extraction import CountVectorizer\n",
    "#countvector = CountVectorizer(ngram_range=(2,2))\n",
    "#X_train = countvector.fit_transform(X_train)"
   ]
  },
  {
   "cell_type": "code",
   "execution_count": 46,
   "metadata": {},
   "outputs": [],
   "source": [
    "#rf.fit(X_train,y_train)"
   ]
  },
  {
   "cell_type": "code",
   "execution_count": null,
   "metadata": {},
   "outputs": [],
   "source": []
  },
  {
   "cell_type": "code",
   "execution_count": null,
   "metadata": {},
   "outputs": [],
   "source": []
  },
  {
   "cell_type": "code",
   "execution_count": 47,
   "metadata": {},
   "outputs": [],
   "source": [
    "#data1.to_csv('stocktwits_cleaned_messages.csv')"
   ]
  },
  {
   "cell_type": "code",
   "execution_count": 48,
   "metadata": {},
   "outputs": [],
   "source": [
    "#dataset.to_csv('stocktwits_cleaned_messages_nlp.csv',index = False)"
   ]
  },
  {
   "cell_type": "code",
   "execution_count": null,
   "metadata": {},
   "outputs": [],
   "source": []
  },
  {
   "cell_type": "code",
   "execution_count": null,
   "metadata": {},
   "outputs": [],
   "source": []
  },
  {
   "cell_type": "code",
   "execution_count": null,
   "metadata": {},
   "outputs": [],
   "source": []
  },
  {
   "cell_type": "code",
   "execution_count": null,
   "metadata": {},
   "outputs": [],
   "source": []
  },
  {
   "cell_type": "code",
   "execution_count": null,
   "metadata": {},
   "outputs": [],
   "source": []
  },
  {
   "cell_type": "code",
   "execution_count": null,
   "metadata": {},
   "outputs": [],
   "source": []
  },
  {
   "cell_type": "code",
   "execution_count": null,
   "metadata": {},
   "outputs": [],
   "source": []
  },
  {
   "cell_type": "code",
   "execution_count": null,
   "metadata": {},
   "outputs": [],
   "source": []
  }
 ],
 "metadata": {
  "kernelspec": {
   "display_name": "Python 3",
   "language": "python",
   "name": "python3"
  },
  "language_info": {
   "codemirror_mode": {
    "name": "ipython",
    "version": 3
   },
   "file_extension": ".py",
   "mimetype": "text/x-python",
   "name": "python",
   "nbconvert_exporter": "python",
   "pygments_lexer": "ipython3",
   "version": "3.7.3"
  }
 },
 "nbformat": 4,
 "nbformat_minor": 2
}
