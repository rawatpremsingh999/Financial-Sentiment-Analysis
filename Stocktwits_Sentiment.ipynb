{
  "nbformat": 4,
  "nbformat_minor": 0,
  "metadata": {
    "colab": {
      "name": "Stocktwits_Sentiment.ipynb",
      "provenance": [],
      "collapsed_sections": [],
      "include_colab_link": true
    },
    "kernelspec": {
      "display_name": "Python 3",
      "name": "python3"
    }
  },
  "cells": [
    {
      "cell_type": "markdown",
      "metadata": {
        "id": "view-in-github",
        "colab_type": "text"
      },
      "source": [
        "<a href=\"https://colab.research.google.com/github/rawatpremsingh999/Financial-Sentiment-Analysis/blob/master/Stocktwits_Sentiment.ipynb\" target=\"_parent\"><img src=\"https://colab.research.google.com/assets/colab-badge.svg\" alt=\"Open In Colab\"/></a>"
      ]
    },
    {
      "cell_type": "code",
      "metadata": {
        "id": "kxVjVQZVMjFb"
      },
      "source": [
        "#from google.colab import files\n",
        "\n",
        "#uploaded = files.upload()"
      ],
      "execution_count": null,
      "outputs": []
    },
    {
      "cell_type": "code",
      "metadata": {
        "id": "w4XGb_LchDoz"
      },
      "source": [
        "import pandas as pd\n",
        "import numpy as np"
      ],
      "execution_count": 2,
      "outputs": []
    },
    {
      "cell_type": "code",
      "metadata": {
        "id": "cPCM08SekMei"
      },
      "source": [
        "from __future__ import division, print_function\n",
        "from gensim import models\n",
        "#from keras.callbacks import ModelCheckpoint\n",
        "from keras.layers import Dense, Dropout, Reshape, Flatten, concatenate, Input, Conv1D, GlobalMaxPooling1D, Embedding\n",
        "#from keras.layers.recurrent import LSTM\n",
        "from keras.models import Sequential\n",
        "from keras.preprocessing.text import Tokenizer\n",
        "from keras.preprocessing.sequence import pad_sequences\n",
        "from keras.models import Model\n",
        "from sklearn.model_selection import train_test_split\n",
        "from sklearn.metrics import classification_report, confusion_matrix, precision_score, recall_score, f1_score,accuracy_score"
      ],
      "execution_count": 59,
      "outputs": []
    },
    {
      "cell_type": "code",
      "metadata": {
        "id": "9Q0_R2FzZzkt"
      },
      "source": [
        "url = 'https://raw.githubusercontent.com/rawatpremsingh999/Financial-Sentiment-Analysis/master/Stocktwits__Cleaned.csv'\n",
        "df = pd.read_csv(url)"
      ],
      "execution_count": 4,
      "outputs": []
    },
    {
      "cell_type": "code",
      "metadata": {
        "id": "3NjOrDUiaLNg",
        "colab": {
          "base_uri": "https://localhost:8080/",
          "height": 204
        },
        "outputId": "e111bb08-69b7-406c-e206-d732ab0af3e4"
      },
      "source": [
        "df.head()"
      ],
      "execution_count": 5,
      "outputs": [
        {
          "output_type": "execute_result",
          "data": {
            "text/html": [
              "<div>\n",
              "<style scoped>\n",
              "    .dataframe tbody tr th:only-of-type {\n",
              "        vertical-align: middle;\n",
              "    }\n",
              "\n",
              "    .dataframe tbody tr th {\n",
              "        vertical-align: top;\n",
              "    }\n",
              "\n",
              "    .dataframe thead th {\n",
              "        text-align: right;\n",
              "    }\n",
              "</style>\n",
              "<table border=\"1\" class=\"dataframe\">\n",
              "  <thead>\n",
              "    <tr style=\"text-align: right;\">\n",
              "      <th></th>\n",
              "      <th>cleaned_message</th>\n",
              "      <th>sentiment</th>\n",
              "    </tr>\n",
              "  </thead>\n",
              "  <tbody>\n",
              "    <tr>\n",
              "      <th>0</th>\n",
              "      <td>tsla funny all these people be say it be go to...</td>\n",
              "      <td>Bullish</td>\n",
              "    </tr>\n",
              "    <tr>\n",
              "      <th>1</th>\n",
              "      <td>tsla anyone else feel we have be pin the last ...</td>\n",
              "      <td>Bullish</td>\n",
              "    </tr>\n",
              "    <tr>\n",
              "      <th>2</th>\n",
              "      <td>tsla anytime watchout</td>\n",
              "      <td>Bearish</td>\n",
              "    </tr>\n",
              "    <tr>\n",
              "      <th>3</th>\n",
              "      <td>tsla bear be scared let them bring it down so ...</td>\n",
              "      <td>Bullish</td>\n",
              "    </tr>\n",
              "    <tr>\n",
              "      <th>4</th>\n",
              "      <td>tsla dollarbanknote rocket rocket rocket rocke...</td>\n",
              "      <td>Bullish</td>\n",
              "    </tr>\n",
              "  </tbody>\n",
              "</table>\n",
              "</div>"
            ],
            "text/plain": [
              "                                     cleaned_message sentiment\n",
              "0  tsla funny all these people be say it be go to...   Bullish\n",
              "1  tsla anyone else feel we have be pin the last ...   Bullish\n",
              "2                              tsla anytime watchout   Bearish\n",
              "3  tsla bear be scared let them bring it down so ...   Bullish\n",
              "4  tsla dollarbanknote rocket rocket rocket rocke...   Bullish"
            ]
          },
          "metadata": {
            "tags": []
          },
          "execution_count": 5
        }
      ]
    },
    {
      "cell_type": "code",
      "metadata": {
        "id": "tOy0VUXcaLUw",
        "colab": {
          "base_uri": "https://localhost:8080/"
        },
        "outputId": "7471c388-e3a3-47f8-e0e5-cdd5d4b95494"
      },
      "source": [
        "df.shape"
      ],
      "execution_count": 6,
      "outputs": [
        {
          "output_type": "execute_result",
          "data": {
            "text/plain": [
              "(5655, 2)"
            ]
          },
          "metadata": {
            "tags": []
          },
          "execution_count": 6
        }
      ]
    },
    {
      "cell_type": "code",
      "metadata": {
        "id": "GvU25G7VIEMm"
      },
      "source": [
        "X = np.array(df['cleaned_message'].tolist()).reshape(-1,1)"
      ],
      "execution_count": 7,
      "outputs": []
    },
    {
      "cell_type": "code",
      "metadata": {
        "id": "1WjMaVdiJ7l6"
      },
      "source": [
        "y = np.array(df['sentiment'].tolist())"
      ],
      "execution_count": 8,
      "outputs": []
    },
    {
      "cell_type": "code",
      "metadata": {
        "id": "kTjT_f7hHXty",
        "colab": {
          "base_uri": "https://localhost:8080/"
        },
        "outputId": "92a6edcc-3073-44fd-94d7-13fe1b26a90c"
      },
      "source": [
        "from imblearn.over_sampling import RandomOverSampler\n",
        "ros = RandomOverSampler(random_state=777)"
      ],
      "execution_count": 9,
      "outputs": [
        {
          "output_type": "stream",
          "text": [
            "/usr/local/lib/python3.6/dist-packages/sklearn/externals/six.py:31: FutureWarning: The module is deprecated in version 0.21 and will be removed in version 0.23 since we've dropped support for Python 2.7. Please rely on the official version of six (https://pypi.org/project/six/).\n",
            "  \"(https://pypi.org/project/six/).\", FutureWarning)\n",
            "/usr/local/lib/python3.6/dist-packages/sklearn/utils/deprecation.py:144: FutureWarning: The sklearn.neighbors.base module is  deprecated in version 0.22 and will be removed in version 0.24. The corresponding classes / functions should instead be imported from sklearn.neighbors. Anything that cannot be imported from sklearn.neighbors is now part of the private API.\n",
            "  warnings.warn(message, FutureWarning)\n"
          ],
          "name": "stderr"
        }
      ]
    },
    {
      "cell_type": "code",
      "metadata": {
        "id": "KXcEBBPVHeIB",
        "colab": {
          "base_uri": "https://localhost:8080/"
        },
        "outputId": "b59942de-bb74-497f-8560-85e98c0beae2"
      },
      "source": [
        "X,y = ros.fit_resample(X,y)"
      ],
      "execution_count": 10,
      "outputs": [
        {
          "output_type": "stream",
          "text": [
            "/usr/local/lib/python3.6/dist-packages/sklearn/utils/deprecation.py:87: FutureWarning: Function safe_indexing is deprecated; safe_indexing is deprecated in version 0.22 and will be removed in version 0.24.\n",
            "  warnings.warn(msg, category=FutureWarning)\n"
          ],
          "name": "stderr"
        }
      ]
    },
    {
      "cell_type": "code",
      "metadata": {
        "id": "z_HJe_qiLaQj",
        "colab": {
          "base_uri": "https://localhost:8080/"
        },
        "outputId": "114fe8e1-db5f-400d-961e-9341762fde61"
      },
      "source": [
        "type(X)\n",
        "type(y)"
      ],
      "execution_count": 11,
      "outputs": [
        {
          "output_type": "execute_result",
          "data": {
            "text/plain": [
              "numpy.ndarray"
            ]
          },
          "metadata": {
            "tags": []
          },
          "execution_count": 11
        }
      ]
    },
    {
      "cell_type": "code",
      "metadata": {
        "id": "dVijmTYSHeE5",
        "colab": {
          "base_uri": "https://localhost:8080/"
        },
        "outputId": "efd89a75-9e6f-4a67-f8f5-cdd3b6649924"
      },
      "source": [
        "from collections import Counter\n",
        "Counter(y)"
      ],
      "execution_count": 31,
      "outputs": [
        {
          "output_type": "execute_result",
          "data": {
            "text/plain": [
              "Counter({'Bearish': 4264, 'Bullish': 4264})"
            ]
          },
          "metadata": {
            "tags": []
          },
          "execution_count": 31
        }
      ]
    },
    {
      "cell_type": "code",
      "metadata": {
        "id": "KgPVsmfiLFPD"
      },
      "source": [
        "numpy_data = np.concatenate((X,y.reshape(-1,1)),axis=1)"
      ],
      "execution_count": 32,
      "outputs": []
    },
    {
      "cell_type": "code",
      "metadata": {
        "id": "PX0oNyE_NhHB"
      },
      "source": [
        "df = pd.DataFrame(data=numpy_data, columns=[\"cleaned_message\", \"sentiment\"])"
      ],
      "execution_count": 33,
      "outputs": []
    },
    {
      "cell_type": "code",
      "metadata": {
        "id": "ii5pLiA4aLZM",
        "colab": {
          "base_uri": "https://localhost:8080/"
        },
        "outputId": "6021d309-0cd7-4ec0-ebf6-ba03a4467671"
      },
      "source": [
        "df.sentiment.unique()"
      ],
      "execution_count": 34,
      "outputs": [
        {
          "output_type": "execute_result",
          "data": {
            "text/plain": [
              "array(['Bullish', 'Bearish'], dtype=object)"
            ]
          },
          "metadata": {
            "tags": []
          },
          "execution_count": 34
        }
      ]
    },
    {
      "cell_type": "code",
      "metadata": {
        "id": "v4TnWiSFaLf2",
        "colab": {
          "base_uri": "https://localhost:8080/"
        },
        "outputId": "f3644529-8adc-4cee-e5a7-280f810e9fec"
      },
      "source": [
        "duplicate = df[df.duplicated()] \n",
        "\n",
        "duplicate.shape"
      ],
      "execution_count": 35,
      "outputs": [
        {
          "output_type": "execute_result",
          "data": {
            "text/plain": [
              "(2890, 2)"
            ]
          },
          "metadata": {
            "tags": []
          },
          "execution_count": 35
        }
      ]
    },
    {
      "cell_type": "code",
      "metadata": {
        "id": "2ensYJbyaLmd"
      },
      "source": [
        "#df.drop_duplicates(inplace=True)\n",
        "\n",
        "#df.shape"
      ],
      "execution_count": null,
      "outputs": []
    },
    {
      "cell_type": "code",
      "metadata": {
        "id": "ewPworjpaLqg"
      },
      "source": [
        "bull = []\n",
        "bear = []\n",
        "for l in df.sentiment:\n",
        "    if l == 'Bearish':\n",
        "        bull.append(0)\n",
        "        bear.append(1)\n",
        "    elif l == 'Bullish':\n",
        "        bull.append(1)\n",
        "        bear.append(0)"
      ],
      "execution_count": 36,
      "outputs": []
    },
    {
      "cell_type": "code",
      "metadata": {
        "id": "_rJ2m245cwX9"
      },
      "source": [
        "df['Bullish']= bull\n",
        "df['Bearish']= bear"
      ],
      "execution_count": 37,
      "outputs": []
    },
    {
      "cell_type": "code",
      "metadata": {
        "id": "fI-EbOCycwsu",
        "colab": {
          "base_uri": "https://localhost:8080/"
        },
        "outputId": "ea413c43-e7cd-41e6-b8d6-af8eab26d0ec"
      },
      "source": [
        "df.shape"
      ],
      "execution_count": 38,
      "outputs": [
        {
          "output_type": "execute_result",
          "data": {
            "text/plain": [
              "(8528, 4)"
            ]
          },
          "metadata": {
            "tags": []
          },
          "execution_count": 38
        }
      ]
    },
    {
      "cell_type": "code",
      "metadata": {
        "id": "E0MA6Jxxea0Z",
        "colab": {
          "base_uri": "https://localhost:8080/"
        },
        "outputId": "a550b449-9361-40ea-facc-88f1cef6db9e"
      },
      "source": [
        "#import nltk\n",
        "#nltk.download('punkt')"
      ],
      "execution_count": 20,
      "outputs": [
        {
          "output_type": "stream",
          "text": [
            "[nltk_data] Downloading package punkt to /root/nltk_data...\n",
            "[nltk_data]   Unzipping tokenizers/punkt.zip.\n"
          ],
          "name": "stdout"
        },
        {
          "output_type": "execute_result",
          "data": {
            "text/plain": [
              "True"
            ]
          },
          "metadata": {
            "tags": []
          },
          "execution_count": 20
        }
      ]
    },
    {
      "cell_type": "code",
      "metadata": {
        "id": "vsCSmpfyea-B",
        "colab": {
          "base_uri": "https://localhost:8080/"
        },
        "outputId": "f82383d9-5143-4a23-ea78-d1b71d01cd76"
      },
      "source": [
        "#nltk.download('stopwords')"
      ],
      "execution_count": 21,
      "outputs": [
        {
          "output_type": "stream",
          "text": [
            "[nltk_data] Downloading package stopwords to /root/nltk_data...\n",
            "[nltk_data]   Unzipping corpora/stopwords.zip.\n"
          ],
          "name": "stdout"
        },
        {
          "output_type": "execute_result",
          "data": {
            "text/plain": [
              "True"
            ]
          },
          "metadata": {
            "tags": []
          },
          "execution_count": 21
        }
      ]
    },
    {
      "cell_type": "code",
      "metadata": {
        "id": "6VYl8R_Ld-ie"
      },
      "source": [
        "from nltk import word_tokenize, WordNetLemmatizer\n",
        "tokens = [word_tokenize(sen) for sen in df.cleaned_message]"
      ],
      "execution_count": 39,
      "outputs": []
    },
    {
      "cell_type": "code",
      "metadata": {
        "id": "A6q2SbNTd_Ev"
      },
      "source": [
        "from nltk.corpus import stopwords\n",
        "stoplist = stopwords.words('english')"
      ],
      "execution_count": 40,
      "outputs": []
    },
    {
      "cell_type": "code",
      "metadata": {
        "id": "6dXqxLXqe0g3"
      },
      "source": [
        "def remove_stop_words(tokens): \n",
        "    return [word for word in tokens if word not in stoplist]"
      ],
      "execution_count": 41,
      "outputs": []
    },
    {
      "cell_type": "code",
      "metadata": {
        "id": "nJ2WfZ2Te0mc"
      },
      "source": [
        "filtered_words = [remove_stop_words(sen) for sen in tokens]"
      ],
      "execution_count": 42,
      "outputs": []
    },
    {
      "cell_type": "code",
      "metadata": {
        "id": "3MP6q6fYe0tG"
      },
      "source": [
        "result = [' '.join(sen) for sen in filtered_words]"
      ],
      "execution_count": 43,
      "outputs": []
    },
    {
      "cell_type": "code",
      "metadata": {
        "id": "VuJ8W3JXe0rR"
      },
      "source": [
        "df['Text_Final'] = result"
      ],
      "execution_count": 44,
      "outputs": []
    },
    {
      "cell_type": "code",
      "metadata": {
        "id": "R5YXGI8LfGeW"
      },
      "source": [
        "df['tokens'] = filtered_words"
      ],
      "execution_count": 45,
      "outputs": []
    },
    {
      "cell_type": "code",
      "metadata": {
        "id": "IM591GrSfbPj",
        "colab": {
          "base_uri": "https://localhost:8080/",
          "height": 238
        },
        "outputId": "f5738d5d-a8dd-40d9-de76-cefe9b49534b"
      },
      "source": [
        "df.head()"
      ],
      "execution_count": 46,
      "outputs": [
        {
          "output_type": "execute_result",
          "data": {
            "text/html": [
              "<div>\n",
              "<style scoped>\n",
              "    .dataframe tbody tr th:only-of-type {\n",
              "        vertical-align: middle;\n",
              "    }\n",
              "\n",
              "    .dataframe tbody tr th {\n",
              "        vertical-align: top;\n",
              "    }\n",
              "\n",
              "    .dataframe thead th {\n",
              "        text-align: right;\n",
              "    }\n",
              "</style>\n",
              "<table border=\"1\" class=\"dataframe\">\n",
              "  <thead>\n",
              "    <tr style=\"text-align: right;\">\n",
              "      <th></th>\n",
              "      <th>cleaned_message</th>\n",
              "      <th>sentiment</th>\n",
              "      <th>Bullish</th>\n",
              "      <th>Bearish</th>\n",
              "      <th>Text_Final</th>\n",
              "      <th>tokens</th>\n",
              "    </tr>\n",
              "  </thead>\n",
              "  <tbody>\n",
              "    <tr>\n",
              "      <th>0</th>\n",
              "      <td>tsla funny all these people be say it be go to...</td>\n",
              "      <td>Bullish</td>\n",
              "      <td>1</td>\n",
              "      <td>0</td>\n",
              "      <td>tsla funny people say go crash pullback bounce...</td>\n",
              "      <td>[tsla, funny, people, say, go, crash, pullback...</td>\n",
              "    </tr>\n",
              "    <tr>\n",
              "      <th>1</th>\n",
              "      <td>tsla anyone else feel we have be pin the last ...</td>\n",
              "      <td>Bullish</td>\n",
              "      <td>1</td>\n",
              "      <td>0</td>\n",
              "      <td>tsla anyone else feel pin last week</td>\n",
              "      <td>[tsla, anyone, else, feel, pin, last, week]</td>\n",
              "    </tr>\n",
              "    <tr>\n",
              "      <th>2</th>\n",
              "      <td>tsla anytime watchout</td>\n",
              "      <td>Bearish</td>\n",
              "      <td>0</td>\n",
              "      <td>1</td>\n",
              "      <td>tsla anytime watchout</td>\n",
              "      <td>[tsla, anytime, watchout]</td>\n",
              "    </tr>\n",
              "    <tr>\n",
              "      <th>3</th>\n",
              "      <td>tsla bear be scared let them bring it down so ...</td>\n",
              "      <td>Bullish</td>\n",
              "      <td>1</td>\n",
              "      <td>0</td>\n",
              "      <td>tsla bear scared let bring little extra money lol</td>\n",
              "      <td>[tsla, bear, scared, let, bring, little, extra...</td>\n",
              "    </tr>\n",
              "    <tr>\n",
              "      <th>4</th>\n",
              "      <td>tsla dollarbanknote rocket rocket rocket rocke...</td>\n",
              "      <td>Bullish</td>\n",
              "      <td>1</td>\n",
              "      <td>0</td>\n",
              "      <td>tsla dollarbanknote rocket rocket rocket rocke...</td>\n",
              "      <td>[tsla, dollarbanknote, rocket, rocket, rocket,...</td>\n",
              "    </tr>\n",
              "  </tbody>\n",
              "</table>\n",
              "</div>"
            ],
            "text/plain": [
              "                                     cleaned_message  ...                                             tokens\n",
              "0  tsla funny all these people be say it be go to...  ...  [tsla, funny, people, say, go, crash, pullback...\n",
              "1  tsla anyone else feel we have be pin the last ...  ...        [tsla, anyone, else, feel, pin, last, week]\n",
              "2                              tsla anytime watchout  ...                          [tsla, anytime, watchout]\n",
              "3  tsla bear be scared let them bring it down so ...  ...  [tsla, bear, scared, let, bring, little, extra...\n",
              "4  tsla dollarbanknote rocket rocket rocket rocke...  ...  [tsla, dollarbanknote, rocket, rocket, rocket,...\n",
              "\n",
              "[5 rows x 6 columns]"
            ]
          },
          "metadata": {
            "tags": []
          },
          "execution_count": 46
        }
      ]
    },
    {
      "cell_type": "code",
      "metadata": {
        "id": "9Ghzv63xfGkJ"
      },
      "source": [
        "df = df[['Text_Final', 'tokens', 'sentiment', 'Bullish', 'Bearish']]"
      ],
      "execution_count": 47,
      "outputs": []
    },
    {
      "cell_type": "code",
      "metadata": {
        "id": "yXpZ8OXYfGtm",
        "colab": {
          "base_uri": "https://localhost:8080/",
          "height": 204
        },
        "outputId": "6bbb87db-5a62-477e-dbf9-38d6e85dab58"
      },
      "source": [
        "df.head()"
      ],
      "execution_count": 48,
      "outputs": [
        {
          "output_type": "execute_result",
          "data": {
            "text/html": [
              "<div>\n",
              "<style scoped>\n",
              "    .dataframe tbody tr th:only-of-type {\n",
              "        vertical-align: middle;\n",
              "    }\n",
              "\n",
              "    .dataframe tbody tr th {\n",
              "        vertical-align: top;\n",
              "    }\n",
              "\n",
              "    .dataframe thead th {\n",
              "        text-align: right;\n",
              "    }\n",
              "</style>\n",
              "<table border=\"1\" class=\"dataframe\">\n",
              "  <thead>\n",
              "    <tr style=\"text-align: right;\">\n",
              "      <th></th>\n",
              "      <th>Text_Final</th>\n",
              "      <th>tokens</th>\n",
              "      <th>sentiment</th>\n",
              "      <th>Bullish</th>\n",
              "      <th>Bearish</th>\n",
              "    </tr>\n",
              "  </thead>\n",
              "  <tbody>\n",
              "    <tr>\n",
              "      <th>0</th>\n",
              "      <td>tsla funny people say go crash pullback bounce...</td>\n",
              "      <td>[tsla, funny, people, say, go, crash, pullback...</td>\n",
              "      <td>Bullish</td>\n",
              "      <td>1</td>\n",
              "      <td>0</td>\n",
              "    </tr>\n",
              "    <tr>\n",
              "      <th>1</th>\n",
              "      <td>tsla anyone else feel pin last week</td>\n",
              "      <td>[tsla, anyone, else, feel, pin, last, week]</td>\n",
              "      <td>Bullish</td>\n",
              "      <td>1</td>\n",
              "      <td>0</td>\n",
              "    </tr>\n",
              "    <tr>\n",
              "      <th>2</th>\n",
              "      <td>tsla anytime watchout</td>\n",
              "      <td>[tsla, anytime, watchout]</td>\n",
              "      <td>Bearish</td>\n",
              "      <td>0</td>\n",
              "      <td>1</td>\n",
              "    </tr>\n",
              "    <tr>\n",
              "      <th>3</th>\n",
              "      <td>tsla bear scared let bring little extra money lol</td>\n",
              "      <td>[tsla, bear, scared, let, bring, little, extra...</td>\n",
              "      <td>Bullish</td>\n",
              "      <td>1</td>\n",
              "      <td>0</td>\n",
              "    </tr>\n",
              "    <tr>\n",
              "      <th>4</th>\n",
              "      <td>tsla dollarbanknote rocket rocket rocket rocke...</td>\n",
              "      <td>[tsla, dollarbanknote, rocket, rocket, rocket,...</td>\n",
              "      <td>Bullish</td>\n",
              "      <td>1</td>\n",
              "      <td>0</td>\n",
              "    </tr>\n",
              "  </tbody>\n",
              "</table>\n",
              "</div>"
            ],
            "text/plain": [
              "                                          Text_Final  ... Bearish\n",
              "0  tsla funny people say go crash pullback bounce...  ...       0\n",
              "1                tsla anyone else feel pin last week  ...       0\n",
              "2                              tsla anytime watchout  ...       1\n",
              "3  tsla bear scared let bring little extra money lol  ...       0\n",
              "4  tsla dollarbanknote rocket rocket rocket rocke...  ...       0\n",
              "\n",
              "[5 rows x 5 columns]"
            ]
          },
          "metadata": {
            "tags": []
          },
          "execution_count": 48
        }
      ]
    },
    {
      "cell_type": "markdown",
      "metadata": {
        "id": "cc3ht6nwj88O"
      },
      "source": [
        "### Split data into train and test"
      ]
    },
    {
      "cell_type": "code",
      "metadata": {
        "id": "hxwCJzlafGxE"
      },
      "source": [
        "data_train, data_test = train_test_split(df, test_size=0.20, random_state=42)"
      ],
      "execution_count": 49,
      "outputs": []
    },
    {
      "cell_type": "code",
      "metadata": {
        "id": "XLOHJcH6IZrY",
        "colab": {
          "base_uri": "https://localhost:8080/"
        },
        "outputId": "b39195aa-bc8f-451b-cae6-2fe398ef6aef"
      },
      "source": [
        "data_train.shape,data_test.shape"
      ],
      "execution_count": 50,
      "outputs": [
        {
          "output_type": "execute_result",
          "data": {
            "text/plain": [
              "((6822, 5), (1706, 5))"
            ]
          },
          "metadata": {
            "tags": []
          },
          "execution_count": 50
        }
      ]
    },
    {
      "cell_type": "code",
      "metadata": {
        "id": "XdAuNXbvd6OJ"
      },
      "source": [
        "data_test.reset_index(inplace=True)"
      ],
      "execution_count": 51,
      "outputs": []
    },
    {
      "cell_type": "code",
      "metadata": {
        "id": "qAsNYz8Ud5Ep",
        "colab": {
          "base_uri": "https://localhost:8080/"
        },
        "outputId": "f2107a72-6f5a-4be1-c42e-c6ce7b6e9071"
      },
      "source": [
        "duplicate = data_test[data_test.duplicated(subset=['Text_Final','sentiment'])] \n",
        "\n",
        "duplicate.shape"
      ],
      "execution_count": 52,
      "outputs": [
        {
          "output_type": "execute_result",
          "data": {
            "text/plain": [
              "(202, 6)"
            ]
          },
          "metadata": {
            "tags": []
          },
          "execution_count": 52
        }
      ]
    },
    {
      "cell_type": "code",
      "metadata": {
        "id": "1Pe5dpvAgRFD",
        "colab": {
          "base_uri": "https://localhost:8080/"
        },
        "outputId": "05507354-e579-4941-fbbf-7c36d8cde1cc"
      },
      "source": [
        "data_test.drop_duplicates(subset=['Text_Final','sentiment'],inplace=True)\n",
        "data_test.shape"
      ],
      "execution_count": 53,
      "outputs": [
        {
          "output_type": "stream",
          "text": [
            "/usr/local/lib/python3.6/dist-packages/ipykernel_launcher.py:1: SettingWithCopyWarning: \n",
            "A value is trying to be set on a copy of a slice from a DataFrame\n",
            "\n",
            "See the caveats in the documentation: https://pandas.pydata.org/pandas-docs/stable/user_guide/indexing.html#returning-a-view-versus-a-copy\n",
            "  \"\"\"Entry point for launching an IPython kernel.\n"
          ],
          "name": "stderr"
        },
        {
          "output_type": "execute_result",
          "data": {
            "text/plain": [
              "(1504, 6)"
            ]
          },
          "metadata": {
            "tags": []
          },
          "execution_count": 53
        }
      ]
    },
    {
      "cell_type": "code",
      "metadata": {
        "id": "vX2e2MurgzNQ",
        "colab": {
          "base_uri": "https://localhost:8080/",
          "height": 289
        },
        "outputId": "86592ac4-d150-498a-ec5e-58813f0e3645"
      },
      "source": [
        "data_test.drop(columns=['index'],inplace=True)\n",
        "data_test.head()"
      ],
      "execution_count": 54,
      "outputs": [
        {
          "output_type": "stream",
          "text": [
            "/usr/local/lib/python3.6/dist-packages/pandas/core/frame.py:4174: SettingWithCopyWarning: \n",
            "A value is trying to be set on a copy of a slice from a DataFrame\n",
            "\n",
            "See the caveats in the documentation: https://pandas.pydata.org/pandas-docs/stable/user_guide/indexing.html#returning-a-view-versus-a-copy\n",
            "  errors=errors,\n"
          ],
          "name": "stderr"
        },
        {
          "output_type": "execute_result",
          "data": {
            "text/html": [
              "<div>\n",
              "<style scoped>\n",
              "    .dataframe tbody tr th:only-of-type {\n",
              "        vertical-align: middle;\n",
              "    }\n",
              "\n",
              "    .dataframe tbody tr th {\n",
              "        vertical-align: top;\n",
              "    }\n",
              "\n",
              "    .dataframe thead th {\n",
              "        text-align: right;\n",
              "    }\n",
              "</style>\n",
              "<table border=\"1\" class=\"dataframe\">\n",
              "  <thead>\n",
              "    <tr style=\"text-align: right;\">\n",
              "      <th></th>\n",
              "      <th>Text_Final</th>\n",
              "      <th>tokens</th>\n",
              "      <th>sentiment</th>\n",
              "      <th>Bullish</th>\n",
              "      <th>Bearish</th>\n",
              "    </tr>\n",
              "  </thead>\n",
              "  <tbody>\n",
              "    <tr>\n",
              "      <th>0</th>\n",
              "      <td>snap gt twtr gt pin gt fb order ghost ghost ghost</td>\n",
              "      <td>[snap, gt, twtr, gt, pin, gt, fb, order, ghost...</td>\n",
              "      <td>Bullish</td>\n",
              "      <td>1</td>\n",
              "      <td>0</td>\n",
              "    </tr>\n",
              "    <tr>\n",
              "      <th>1</th>\n",
              "      <td>tsla low volume pumping remind lot pre er thin...</td>\n",
              "      <td>[tsla, low, volume, pumping, remind, lot, pre,...</td>\n",
              "      <td>Bearish</td>\n",
              "      <td>0</td>\n",
              "      <td>1</td>\n",
              "    </tr>\n",
              "    <tr>\n",
              "      <th>2</th>\n",
              "      <td>snap also collectively stop refer superimposit...</td>\n",
              "      <td>[snap, also, collectively, stop, refer, superi...</td>\n",
              "      <td>Bearish</td>\n",
              "      <td>0</td>\n",
              "      <td>1</td>\n",
              "    </tr>\n",
              "    <tr>\n",
              "      <th>3</th>\n",
              "      <td>spy bearface market bears cut deeply thumbsdow...</td>\n",
              "      <td>[spy, bearface, market, bears, cut, deeply, th...</td>\n",
              "      <td>Bearish</td>\n",
              "      <td>0</td>\n",
              "      <td>1</td>\n",
              "    </tr>\n",
              "    <tr>\n",
              "      <th>4</th>\n",
              "      <td>twtr bearish</td>\n",
              "      <td>[twtr, bearish]</td>\n",
              "      <td>Bearish</td>\n",
              "      <td>0</td>\n",
              "      <td>1</td>\n",
              "    </tr>\n",
              "  </tbody>\n",
              "</table>\n",
              "</div>"
            ],
            "text/plain": [
              "                                          Text_Final  ... Bearish\n",
              "0  snap gt twtr gt pin gt fb order ghost ghost ghost  ...       0\n",
              "1  tsla low volume pumping remind lot pre er thin...  ...       1\n",
              "2  snap also collectively stop refer superimposit...  ...       1\n",
              "3  spy bearface market bears cut deeply thumbsdow...  ...       1\n",
              "4                                       twtr bearish  ...       1\n",
              "\n",
              "[5 rows x 5 columns]"
            ]
          },
          "metadata": {
            "tags": []
          },
          "execution_count": 54
        }
      ]
    },
    {
      "cell_type": "code",
      "metadata": {
        "id": "_LTUaTVnC0nc",
        "colab": {
          "base_uri": "https://localhost:8080/",
          "height": 204
        },
        "outputId": "ee24b73a-d7ca-4eb7-fc82-6f12ee6d87af"
      },
      "source": [
        "data_train.head()"
      ],
      "execution_count": 55,
      "outputs": [
        {
          "output_type": "execute_result",
          "data": {
            "text/html": [
              "<div>\n",
              "<style scoped>\n",
              "    .dataframe tbody tr th:only-of-type {\n",
              "        vertical-align: middle;\n",
              "    }\n",
              "\n",
              "    .dataframe tbody tr th {\n",
              "        vertical-align: top;\n",
              "    }\n",
              "\n",
              "    .dataframe thead th {\n",
              "        text-align: right;\n",
              "    }\n",
              "</style>\n",
              "<table border=\"1\" class=\"dataframe\">\n",
              "  <thead>\n",
              "    <tr style=\"text-align: right;\">\n",
              "      <th></th>\n",
              "      <th>Text_Final</th>\n",
              "      <th>tokens</th>\n",
              "      <th>sentiment</th>\n",
              "      <th>Bullish</th>\n",
              "      <th>Bearish</th>\n",
              "    </tr>\n",
              "  </thead>\n",
              "  <tbody>\n",
              "    <tr>\n",
              "      <th>6301</th>\n",
              "      <td>nkla nikola set record straight confirm everyt...</td>\n",
              "      <td>[nkla, nikola, set, record, straight, confirm,...</td>\n",
              "      <td>Bearish</td>\n",
              "      <td>0</td>\n",
              "      <td>1</td>\n",
              "    </tr>\n",
              "    <tr>\n",
              "      <th>549</th>\n",
              "      <td>btcx interesting week ahead still plot decembe...</td>\n",
              "      <td>[btcx, interesting, week, ahead, still, plot, ...</td>\n",
              "      <td>Bullish</td>\n",
              "      <td>1</td>\n",
              "      <td>0</td>\n",
              "    </tr>\n",
              "    <tr>\n",
              "      <th>2697</th>\n",
              "      <td>nflx get bastard</td>\n",
              "      <td>[nflx, get, bastard]</td>\n",
              "      <td>Bullish</td>\n",
              "      <td>1</td>\n",
              "      <td>0</td>\n",
              "    </tr>\n",
              "    <tr>\n",
              "      <th>764</th>\n",
              "      <td>twtr long heaven next</td>\n",
              "      <td>[twtr, long, heaven, next]</td>\n",
              "      <td>Bullish</td>\n",
              "      <td>1</td>\n",
              "      <td>0</td>\n",
              "    </tr>\n",
              "    <tr>\n",
              "      <th>8474</th>\n",
              "      <td>mu</td>\n",
              "      <td>[mu]</td>\n",
              "      <td>Bearish</td>\n",
              "      <td>0</td>\n",
              "      <td>1</td>\n",
              "    </tr>\n",
              "  </tbody>\n",
              "</table>\n",
              "</div>"
            ],
            "text/plain": [
              "                                             Text_Final  ... Bearish\n",
              "6301  nkla nikola set record straight confirm everyt...  ...       1\n",
              "549   btcx interesting week ahead still plot decembe...  ...       0\n",
              "2697                                   nflx get bastard  ...       0\n",
              "764                               twtr long heaven next  ...       0\n",
              "8474                                                 mu  ...       1\n",
              "\n",
              "[5 rows x 5 columns]"
            ]
          },
          "metadata": {
            "tags": []
          },
          "execution_count": 55
        }
      ]
    },
    {
      "cell_type": "code",
      "metadata": {
        "id": "nGu6AYErfG1p",
        "colab": {
          "base_uri": "https://localhost:8080/"
        },
        "outputId": "990d12e2-b46b-4bcb-dffa-e2324aa1945c"
      },
      "source": [
        "all_training_words = [word for tokens in data_train[\"tokens\"] for word in tokens]\n",
        "training_sentence_lengths = [len(tokens) for tokens in data_train[\"tokens\"]]\n",
        "TRAINING_VOCAB = sorted(list(set(all_training_words)))\n",
        "print(\"%s words total, with a vocabulary size of %s\" % (len(all_training_words), len(TRAINING_VOCAB)))\n",
        "print(\"Max sentence length is %s\" % max(training_sentence_lengths))"
      ],
      "execution_count": 56,
      "outputs": [
        {
          "output_type": "stream",
          "text": [
            "82273 words total, with a vocabulary size of 7252\n",
            "Max sentence length is 113\n"
          ],
          "name": "stdout"
        }
      ]
    },
    {
      "cell_type": "markdown",
      "metadata": {
        "id": "Ap7yyEFWka9R"
      },
      "source": [
        "**Google News Word2Vec**"
      ]
    },
    {
      "cell_type": "code",
      "metadata": {
        "id": "fQOmJPG7n8eV",
        "colab": {
          "base_uri": "https://localhost:8080/"
        },
        "outputId": "1bc7e358-1466-4573-fb91-f596c590b294"
      },
      "source": [
        "!wget -P /root/input/ -c \"https://s3.amazonaws.com/dl4j-distribution/GoogleNews-vectors-negative300.bin.gz\""
      ],
      "execution_count": 57,
      "outputs": [
        {
          "output_type": "stream",
          "text": [
            "--2020-11-26 14:39:14--  https://s3.amazonaws.com/dl4j-distribution/GoogleNews-vectors-negative300.bin.gz\n",
            "Resolving s3.amazonaws.com (s3.amazonaws.com)... 52.216.137.254\n",
            "Connecting to s3.amazonaws.com (s3.amazonaws.com)|52.216.137.254|:443... connected.\n",
            "HTTP request sent, awaiting response... 200 OK\n",
            "Length: 1647046227 (1.5G) [application/x-gzip]\n",
            "Saving to: ‘/root/input/GoogleNews-vectors-negative300.bin.gz’\n",
            "\n",
            "GoogleNews-vectors- 100%[===================>]   1.53G  16.7MB/s    in 97s     \n",
            "\n",
            "2020-11-26 14:40:52 (16.2 MB/s) - ‘/root/input/GoogleNews-vectors-negative300.bin.gz’ saved [1647046227/1647046227]\n",
            "\n"
          ],
          "name": "stdout"
        }
      ]
    },
    {
      "cell_type": "code",
      "metadata": {
        "id": "bQ8Fynh_n83w"
      },
      "source": [
        "EMBEDDING_FILE = '/root/input/GoogleNews-vectors-negative300.bin.gz' # from above\n",
        "word2vec = models.KeyedVectors.load_word2vec_format(EMBEDDING_FILE, binary=True)"
      ],
      "execution_count": 60,
      "outputs": []
    },
    {
      "cell_type": "code",
      "metadata": {
        "id": "VubtDJGSn9dH"
      },
      "source": [
        "def get_average_word2vec(tokens_list, vector, generate_missing=False, k=300):\n",
        "    if len(tokens_list)<1:\n",
        "        return np.zeros(k)\n",
        "    if generate_missing:\n",
        "        vectorized = [vector[word] if word in vector else np.random.rand(k) for word in tokens_list]\n",
        "    else:\n",
        "        vectorized = [vector[word] if word in vector else np.zeros(k) for word in tokens_list]\n",
        "    length = len(vectorized)\n",
        "    summed = np.sum(vectorized, axis=0)\n",
        "    averaged = np.divide(summed, length)\n",
        "    return averaged\n",
        "\n",
        "def get_word2vec_embeddings(vectors, clean_comments, generate_missing=False):\n",
        "    embeddings = clean_comments['tokens'].apply(lambda x: get_average_word2vec(x, vectors, \n",
        "                                                                                generate_missing=generate_missing))\n",
        "    return list(embeddings)"
      ],
      "execution_count": 61,
      "outputs": []
    },
    {
      "cell_type": "code",
      "metadata": {
        "id": "ctVr_FbupRhk"
      },
      "source": [
        "training_embeddings = get_word2vec_embeddings(word2vec, data_train, generate_missing=True)"
      ],
      "execution_count": 62,
      "outputs": []
    },
    {
      "cell_type": "code",
      "metadata": {
        "id": "FTLeoHZgpRno"
      },
      "source": [
        "MAX_SEQUENCE_LENGTH = 70\n",
        "EMBEDDING_DIM = 300"
      ],
      "execution_count": 63,
      "outputs": []
    },
    {
      "cell_type": "code",
      "metadata": {
        "id": "ACnM5Q0YpRyx",
        "colab": {
          "base_uri": "https://localhost:8080/"
        },
        "outputId": "2b05b5e4-978c-4a60-becb-3b65824e4ede"
      },
      "source": [
        "tokenizer = Tokenizer(num_words=len(TRAINING_VOCAB), lower=True, char_level=False)\n",
        "tokenizer.fit_on_texts(data_train[\"Text_Final\"].tolist())\n",
        "training_sequences = tokenizer.texts_to_sequences(data_train[\"Text_Final\"].tolist())\n",
        "\n",
        "train_word_index = tokenizer.word_index\n",
        "print('Found %s unique tokens.' % len(train_word_index))"
      ],
      "execution_count": 64,
      "outputs": [
        {
          "output_type": "stream",
          "text": [
            "Found 7252 unique tokens.\n"
          ],
          "name": "stdout"
        }
      ]
    },
    {
      "cell_type": "code",
      "metadata": {
        "id": "K9toqroypR8x"
      },
      "source": [
        "train_cnn_data = pad_sequences(training_sequences, maxlen=MAX_SEQUENCE_LENGTH)"
      ],
      "execution_count": 65,
      "outputs": []
    },
    {
      "cell_type": "code",
      "metadata": {
        "id": "xnsoeC2lpR5l",
        "colab": {
          "base_uri": "https://localhost:8080/"
        },
        "outputId": "40318b68-980c-42e1-ffab-570ac5966e33"
      },
      "source": [
        "train_embedding_weights = np.zeros((len(train_word_index)+1, EMBEDDING_DIM))\n",
        "for word,index in train_word_index.items():\n",
        "    train_embedding_weights[index,:] = word2vec[word] if word in word2vec else np.random.rand(EMBEDDING_DIM)\n",
        "print(train_embedding_weights.shape)"
      ],
      "execution_count": 66,
      "outputs": [
        {
          "output_type": "stream",
          "text": [
            "(7253, 300)\n"
          ],
          "name": "stdout"
        }
      ]
    },
    {
      "cell_type": "code",
      "metadata": {
        "id": "6R-3TH1ipR3q"
      },
      "source": [
        "test_sequences = tokenizer.texts_to_sequences(data_test[\"Text_Final\"].tolist())\n",
        "test_cnn_data = pad_sequences(test_sequences, maxlen=MAX_SEQUENCE_LENGTH)"
      ],
      "execution_count": 67,
      "outputs": []
    },
    {
      "cell_type": "code",
      "metadata": {
        "id": "1zQ2-lpEpRvt"
      },
      "source": [
        "def ConvNet(embeddings, max_sequence_length, num_words, embedding_dim, labels_index):\n",
        "    embedding_layer = Embedding(num_words,\n",
        "                            embedding_dim,\n",
        "                            weights=[embeddings],\n",
        "                            input_length=max_sequence_length,\n",
        "                            trainable=False)\n",
        "   \n",
        "    embedding_layer = Embedding(num_words,\n",
        "                            embedding_dim,\n",
        "                            weights=[embeddings],\n",
        "                            input_length=max_sequence_length,\n",
        "                            trainable=False)\n",
        "    \n",
        "    sequence_input = Input(shape=(max_sequence_length,), dtype='int32')\n",
        "    embedded_sequences = embedding_layer(sequence_input)\n",
        "\n",
        "\n",
        "    convs = []\n",
        "    filter_sizes = [3,5,7]\n",
        "\n",
        "    for filter_size in filter_sizes:\n",
        "        l_conv = Conv1D(filters=200, kernel_size=filter_size, activation='relu')(embedded_sequences)\n",
        "        l_pool = GlobalMaxPooling1D()(l_conv)\n",
        "        convs.append(l_pool)\n",
        "\n",
        "\n",
        "    l_merge = concatenate(convs, axis=1)\n",
        "\n",
        "    x = Dropout(0.1)(l_merge)  \n",
        "    x = Dense(128, activation='relu')(x)\n",
        "    x = Dropout(0.2)(x)\n",
        "    preds = Dense(labels_index, activation='softmax')(x)\n",
        "\n",
        "    model = Model(sequence_input, preds)\n",
        "    model.compile(loss='binary_crossentropy',optimizer='adam',metrics=['acc'])\n",
        "    model.summary()\n",
        "    \n",
        "    return model"
      ],
      "execution_count": 68,
      "outputs": []
    },
    {
      "cell_type": "code",
      "metadata": {
        "id": "tnAVYm8cpRtR"
      },
      "source": [
        "label_names = ['Bullish', 'Bearish']"
      ],
      "execution_count": 69,
      "outputs": []
    },
    {
      "cell_type": "code",
      "metadata": {
        "id": "0rtM76_mpRlq"
      },
      "source": [
        "y_train = data_train[label_names].values"
      ],
      "execution_count": 70,
      "outputs": []
    },
    {
      "cell_type": "code",
      "metadata": {
        "id": "cU2vlNwCpy_X"
      },
      "source": [
        "x_train = train_cnn_data\n",
        "y_tr = y_train"
      ],
      "execution_count": 71,
      "outputs": []
    },
    {
      "cell_type": "code",
      "metadata": {
        "id": "XGuoVILs7eZN",
        "colab": {
          "base_uri": "https://localhost:8080/"
        },
        "outputId": "913fb896-8fb1-444f-9870-5a6fe1c99412"
      },
      "source": [
        "y_tr.shape"
      ],
      "execution_count": 72,
      "outputs": [
        {
          "output_type": "execute_result",
          "data": {
            "text/plain": [
              "(6822, 2)"
            ]
          },
          "metadata": {
            "tags": []
          },
          "execution_count": 72
        }
      ]
    },
    {
      "cell_type": "code",
      "metadata": {
        "id": "Y3g9X8UhpzLK",
        "colab": {
          "base_uri": "https://localhost:8080/"
        },
        "outputId": "53e40a21-0aeb-4c96-cb49-8a6971742752"
      },
      "source": [
        "model = ConvNet(train_embedding_weights, MAX_SEQUENCE_LENGTH, len(train_word_index)+1, EMBEDDING_DIM, \n",
        "                len(list(label_names)))"
      ],
      "execution_count": 73,
      "outputs": [
        {
          "output_type": "stream",
          "text": [
            "Model: \"functional_1\"\n",
            "__________________________________________________________________________________________________\n",
            "Layer (type)                    Output Shape         Param #     Connected to                     \n",
            "==================================================================================================\n",
            "input_1 (InputLayer)            [(None, 70)]         0                                            \n",
            "__________________________________________________________________________________________________\n",
            "embedding_1 (Embedding)         (None, 70, 300)      2175900     input_1[0][0]                    \n",
            "__________________________________________________________________________________________________\n",
            "conv1d (Conv1D)                 (None, 68, 200)      180200      embedding_1[0][0]                \n",
            "__________________________________________________________________________________________________\n",
            "conv1d_1 (Conv1D)               (None, 66, 200)      300200      embedding_1[0][0]                \n",
            "__________________________________________________________________________________________________\n",
            "conv1d_2 (Conv1D)               (None, 64, 200)      420200      embedding_1[0][0]                \n",
            "__________________________________________________________________________________________________\n",
            "global_max_pooling1d (GlobalMax (None, 200)          0           conv1d[0][0]                     \n",
            "__________________________________________________________________________________________________\n",
            "global_max_pooling1d_1 (GlobalM (None, 200)          0           conv1d_1[0][0]                   \n",
            "__________________________________________________________________________________________________\n",
            "global_max_pooling1d_2 (GlobalM (None, 200)          0           conv1d_2[0][0]                   \n",
            "__________________________________________________________________________________________________\n",
            "concatenate (Concatenate)       (None, 600)          0           global_max_pooling1d[0][0]       \n",
            "                                                                 global_max_pooling1d_1[0][0]     \n",
            "                                                                 global_max_pooling1d_2[0][0]     \n",
            "__________________________________________________________________________________________________\n",
            "dropout (Dropout)               (None, 600)          0           concatenate[0][0]                \n",
            "__________________________________________________________________________________________________\n",
            "dense (Dense)                   (None, 128)          76928       dropout[0][0]                    \n",
            "__________________________________________________________________________________________________\n",
            "dropout_1 (Dropout)             (None, 128)          0           dense[0][0]                      \n",
            "__________________________________________________________________________________________________\n",
            "dense_1 (Dense)                 (None, 2)            258         dropout_1[0][0]                  \n",
            "==================================================================================================\n",
            "Total params: 3,153,686\n",
            "Trainable params: 977,786\n",
            "Non-trainable params: 2,175,900\n",
            "__________________________________________________________________________________________________\n"
          ],
          "name": "stdout"
        }
      ]
    },
    {
      "cell_type": "code",
      "metadata": {
        "id": "ruO_z8TkqaXH",
        "colab": {
          "base_uri": "https://localhost:8080/",
          "height": 636
        },
        "outputId": "ea7ed163-c151-4401-8e15-3567612cfc3c"
      },
      "source": [
        "import tensorflow as tf\n",
        "tf.keras.utils.plot_model(model, \"multi_input_and_output_model.png\", show_shapes=True)"
      ],
      "execution_count": 74,
      "outputs": [
        {
          "output_type": "execute_result",
          "data": {
            "image/png": "[encoded data removed]",
            "text/plain": [
              "<IPython.core.display.Image object>"
            ]
          },
          "metadata": {
            "tags": []
          },
          "execution_count": 74
        }
      ]
    },
    {
      "cell_type": "code",
      "metadata": {
        "id": "mQIMpf67pzUS"
      },
      "source": [
        "num_epochs = 25\n",
        "batch_size = 100"
      ],
      "execution_count": 75,
      "outputs": []
    },
    {
      "cell_type": "code",
      "metadata": {
        "id": "q9xDLANhpzR0",
        "colab": {
          "base_uri": "https://localhost:8080/"
        },
        "outputId": "4f93388e-f3c7-4542-ed2f-6e1facea44aa"
      },
      "source": [
        "hist = model.fit(x_train, y_tr, epochs=num_epochs, validation_split=0.1, shuffle=True, batch_size=batch_size)"
      ],
      "execution_count": 76,
      "outputs": [
        {
          "output_type": "stream",
          "text": [
            "Epoch 1/25\n",
            "62/62 [==============================] - 29s 462ms/step - loss: 0.6992 - acc: 0.5788 - val_loss: 0.6102 - val_acc: 0.6852\n",
            "Epoch 2/25\n",
            "62/62 [==============================] - 28s 458ms/step - loss: 0.5665 - acc: 0.7043 - val_loss: 0.5080 - val_acc: 0.7613\n",
            "Epoch 3/25\n",
            "62/62 [==============================] - 28s 454ms/step - loss: 0.4247 - acc: 0.8062 - val_loss: 0.4437 - val_acc: 0.7760\n",
            "Epoch 4/25\n",
            "62/62 [==============================] - 29s 467ms/step - loss: 0.2696 - acc: 0.8920 - val_loss: 0.3224 - val_acc: 0.8433\n",
            "Epoch 5/25\n",
            "62/62 [==============================] - 28s 455ms/step - loss: 0.1786 - acc: 0.9317 - val_loss: 0.4061 - val_acc: 0.8258\n",
            "Epoch 6/25\n",
            "62/62 [==============================] - 28s 453ms/step - loss: 0.1353 - acc: 0.9440 - val_loss: 0.4699 - val_acc: 0.8199\n",
            "Epoch 7/25\n",
            "62/62 [==============================] - 28s 454ms/step - loss: 0.0924 - acc: 0.9635 - val_loss: 0.4267 - val_acc: 0.8389\n",
            "Epoch 8/25\n",
            "62/62 [==============================] - 28s 453ms/step - loss: 0.0775 - acc: 0.9704 - val_loss: 0.5900 - val_acc: 0.8082\n",
            "Epoch 9/25\n",
            "62/62 [==============================] - 28s 455ms/step - loss: 0.0738 - acc: 0.9713 - val_loss: 0.4066 - val_acc: 0.8507\n",
            "Epoch 10/25\n",
            "62/62 [==============================] - 28s 455ms/step - loss: 0.0521 - acc: 0.9798 - val_loss: 0.3284 - val_acc: 0.9019\n",
            "Epoch 11/25\n",
            "62/62 [==============================] - 29s 462ms/step - loss: 0.0583 - acc: 0.9788 - val_loss: 0.4231 - val_acc: 0.8624\n",
            "Epoch 12/25\n",
            "62/62 [==============================] - 29s 462ms/step - loss: 0.0461 - acc: 0.9824 - val_loss: 0.4537 - val_acc: 0.8624\n",
            "Epoch 13/25\n",
            "62/62 [==============================] - 28s 459ms/step - loss: 0.0534 - acc: 0.9798 - val_loss: 0.3952 - val_acc: 0.8785\n",
            "Epoch 14/25\n",
            "62/62 [==============================] - 28s 459ms/step - loss: 0.0538 - acc: 0.9780 - val_loss: 0.3696 - val_acc: 0.8917\n",
            "Epoch 15/25\n",
            "62/62 [==============================] - 28s 458ms/step - loss: 0.0429 - acc: 0.9809 - val_loss: 0.3707 - val_acc: 0.8990\n",
            "Epoch 16/25\n",
            "62/62 [==============================] - 28s 459ms/step - loss: 0.0296 - acc: 0.9888 - val_loss: 0.4524 - val_acc: 0.8843\n",
            "Epoch 17/25\n",
            "62/62 [==============================] - 29s 461ms/step - loss: 0.0342 - acc: 0.9873 - val_loss: 0.3999 - val_acc: 0.8931\n",
            "Epoch 18/25\n",
            "62/62 [==============================] - 28s 455ms/step - loss: 0.0448 - acc: 0.9850 - val_loss: 0.4568 - val_acc: 0.8843\n",
            "Epoch 19/25\n",
            "62/62 [==============================] - 28s 458ms/step - loss: 0.0386 - acc: 0.9847 - val_loss: 0.4094 - val_acc: 0.9019\n",
            "Epoch 20/25\n",
            "62/62 [==============================] - 28s 457ms/step - loss: 0.0423 - acc: 0.9837 - val_loss: 0.4111 - val_acc: 0.8917\n",
            "Epoch 21/25\n",
            "62/62 [==============================] - 29s 463ms/step - loss: 0.0288 - acc: 0.9891 - val_loss: 0.4205 - val_acc: 0.8917\n",
            "Epoch 22/25\n",
            "62/62 [==============================] - 29s 465ms/step - loss: 0.0204 - acc: 0.9925 - val_loss: 0.5742 - val_acc: 0.8741\n",
            "Epoch 23/25\n",
            "62/62 [==============================] - 29s 463ms/step - loss: 0.0220 - acc: 0.9915 - val_loss: 0.5602 - val_acc: 0.8858\n",
            "Epoch 24/25\n",
            "62/62 [==============================] - 29s 461ms/step - loss: 0.0299 - acc: 0.9876 - val_loss: 0.5923 - val_acc: 0.8785\n",
            "Epoch 25/25\n",
            "62/62 [==============================] - 29s 475ms/step - loss: 0.0297 - acc: 0.9876 - val_loss: 0.3911 - val_acc: 0.9136\n"
          ],
          "name": "stdout"
        }
      ]
    },
    {
      "cell_type": "code",
      "metadata": {
        "id": "puKkYgLCGiE9",
        "colab": {
          "base_uri": "https://localhost:8080/"
        },
        "outputId": "1a9f7fbe-7414-4170-a3f9-a0eff4d10726"
      },
      "source": [
        "hist.model"
      ],
      "execution_count": 81,
      "outputs": [
        {
          "output_type": "execute_result",
          "data": {
            "text/plain": [
              "<tensorflow.python.keras.engine.functional.Functional at 0x7f79a0f37550>"
            ]
          },
          "metadata": {
            "tags": []
          },
          "execution_count": 81
        }
      ]
    },
    {
      "cell_type": "code",
      "metadata": {
        "id": "DC8mDsZ9pzPh",
        "colab": {
          "base_uri": "https://localhost:8080/"
        },
        "outputId": "26a54bdf-9261-431e-b6dd-ba5fa29423d8"
      },
      "source": [
        "predictions = model.predict(test_cnn_data, batch_size=1024, verbose=1)"
      ],
      "execution_count": 82,
      "outputs": [
        {
          "output_type": "stream",
          "text": [
            "2/2 [==============================] - 1s 440ms/step\n"
          ],
          "name": "stdout"
        }
      ]
    },
    {
      "cell_type": "code",
      "metadata": {
        "id": "_jBKbZnLpzJM"
      },
      "source": [
        "labels = [1, 0]"
      ],
      "execution_count": 83,
      "outputs": []
    },
    {
      "cell_type": "code",
      "metadata": {
        "id": "WedFI0kUidBb",
        "colab": {
          "base_uri": "https://localhost:8080/"
        },
        "outputId": "d48615ff-7f73-4826-8807-8a818034660f"
      },
      "source": [
        "predictions"
      ],
      "execution_count": 84,
      "outputs": [
        {
          "output_type": "execute_result",
          "data": {
            "text/plain": [
              "array([[1.0000000e+00, 3.4050156e-09],\n",
              "       [1.4410926e-06, 9.9999857e-01],\n",
              "       [2.5034728e-03, 9.9749655e-01],\n",
              "       ...,\n",
              "       [9.9928528e-01, 7.1479130e-04],\n",
              "       [1.4704926e-03, 9.9852943e-01],\n",
              "       [1.0000000e+00, 4.9243332e-11]], dtype=float32)"
            ]
          },
          "metadata": {
            "tags": []
          },
          "execution_count": 84
        }
      ]
    },
    {
      "cell_type": "code",
      "metadata": {
        "id": "SczGxNZ8pzFh",
        "colab": {
          "base_uri": "https://localhost:8080/",
          "height": 35
        },
        "outputId": "cd2f13b8-a9b1-4a7c-b8bc-1d33c57f28f5"
      },
      "source": [
        "prediction_labels=[]\n",
        "for p in predictions:\n",
        "    prediction_labels.append(labels[np.argmax(p)])\n",
        "'''\n",
        "prediction_prob=[]\n",
        "for i in range(len(predictions)):\n",
        "    prediction_prob.append(max(predictions[i]))\n",
        "prediction_prob\n",
        "'''"
      ],
      "execution_count": 85,
      "outputs": [
        {
          "output_type": "execute_result",
          "data": {
            "application/vnd.google.colaboratory.intrinsic+json": {
              "type": "string"
            },
            "text/plain": [
              "'\\nprediction_prob=[]\\nfor i in range(len(predictions)):\\n    prediction_prob.append(max(predictions[i]))\\nprediction_prob\\n'"
            ]
          },
          "metadata": {
            "tags": []
          },
          "execution_count": 85
        }
      ]
    },
    {
      "cell_type": "code",
      "metadata": {
        "id": "Z1iFvAkUsub8"
      },
      "source": [
        "test_labels = []\n",
        "for sen in data_test.sentiment:\n",
        "  if sen == 'Bullish':\n",
        "    test_labels.append(1)\n",
        "  else:\n",
        "    test_labels.append(0)"
      ],
      "execution_count": 86,
      "outputs": []
    },
    {
      "cell_type": "code",
      "metadata": {
        "id": "uKI3wIBYtm-S",
        "colab": {
          "base_uri": "https://localhost:8080/"
        },
        "outputId": "1179c035-9086-4a74-e687-57cdd1f9e984"
      },
      "source": [
        "data_test['Label'] = test_labels"
      ],
      "execution_count": 87,
      "outputs": [
        {
          "output_type": "stream",
          "text": [
            "/usr/local/lib/python3.6/dist-packages/ipykernel_launcher.py:1: SettingWithCopyWarning: \n",
            "A value is trying to be set on a copy of a slice from a DataFrame.\n",
            "Try using .loc[row_indexer,col_indexer] = value instead\n",
            "\n",
            "See the caveats in the documentation: https://pandas.pydata.org/pandas-docs/stable/user_guide/indexing.html#returning-a-view-versus-a-copy\n",
            "  \"\"\"Entry point for launching an IPython kernel.\n"
          ],
          "name": "stderr"
        }
      ]
    },
    {
      "cell_type": "code",
      "metadata": {
        "id": "1wE6okuVuQXv",
        "colab": {
          "base_uri": "https://localhost:8080/",
          "height": 204
        },
        "outputId": "ac3ff7ad-edf1-43d2-a9af-cb53c0069088"
      },
      "source": [
        "data_test.head()"
      ],
      "execution_count": 88,
      "outputs": [
        {
          "output_type": "execute_result",
          "data": {
            "text/html": [
              "<div>\n",
              "<style scoped>\n",
              "    .dataframe tbody tr th:only-of-type {\n",
              "        vertical-align: middle;\n",
              "    }\n",
              "\n",
              "    .dataframe tbody tr th {\n",
              "        vertical-align: top;\n",
              "    }\n",
              "\n",
              "    .dataframe thead th {\n",
              "        text-align: right;\n",
              "    }\n",
              "</style>\n",
              "<table border=\"1\" class=\"dataframe\">\n",
              "  <thead>\n",
              "    <tr style=\"text-align: right;\">\n",
              "      <th></th>\n",
              "      <th>Text_Final</th>\n",
              "      <th>tokens</th>\n",
              "      <th>sentiment</th>\n",
              "      <th>Bullish</th>\n",
              "      <th>Bearish</th>\n",
              "      <th>Label</th>\n",
              "    </tr>\n",
              "  </thead>\n",
              "  <tbody>\n",
              "    <tr>\n",
              "      <th>0</th>\n",
              "      <td>snap gt twtr gt pin gt fb order ghost ghost ghost</td>\n",
              "      <td>[snap, gt, twtr, gt, pin, gt, fb, order, ghost...</td>\n",
              "      <td>Bullish</td>\n",
              "      <td>1</td>\n",
              "      <td>0</td>\n",
              "      <td>1</td>\n",
              "    </tr>\n",
              "    <tr>\n",
              "      <th>1</th>\n",
              "      <td>tsla low volume pumping remind lot pre er thin...</td>\n",
              "      <td>[tsla, low, volume, pumping, remind, lot, pre,...</td>\n",
              "      <td>Bearish</td>\n",
              "      <td>0</td>\n",
              "      <td>1</td>\n",
              "      <td>0</td>\n",
              "    </tr>\n",
              "    <tr>\n",
              "      <th>2</th>\n",
              "      <td>snap also collectively stop refer superimposit...</td>\n",
              "      <td>[snap, also, collectively, stop, refer, superi...</td>\n",
              "      <td>Bearish</td>\n",
              "      <td>0</td>\n",
              "      <td>1</td>\n",
              "      <td>0</td>\n",
              "    </tr>\n",
              "    <tr>\n",
              "      <th>3</th>\n",
              "      <td>spy bearface market bears cut deeply thumbsdow...</td>\n",
              "      <td>[spy, bearface, market, bears, cut, deeply, th...</td>\n",
              "      <td>Bearish</td>\n",
              "      <td>0</td>\n",
              "      <td>1</td>\n",
              "      <td>0</td>\n",
              "    </tr>\n",
              "    <tr>\n",
              "      <th>4</th>\n",
              "      <td>twtr bearish</td>\n",
              "      <td>[twtr, bearish]</td>\n",
              "      <td>Bearish</td>\n",
              "      <td>0</td>\n",
              "      <td>1</td>\n",
              "      <td>0</td>\n",
              "    </tr>\n",
              "  </tbody>\n",
              "</table>\n",
              "</div>"
            ],
            "text/plain": [
              "                                          Text_Final  ... Label\n",
              "0  snap gt twtr gt pin gt fb order ghost ghost ghost  ...     1\n",
              "1  tsla low volume pumping remind lot pre er thin...  ...     0\n",
              "2  snap also collectively stop refer superimposit...  ...     0\n",
              "3  spy bearface market bears cut deeply thumbsdow...  ...     0\n",
              "4                                       twtr bearish  ...     0\n",
              "\n",
              "[5 rows x 6 columns]"
            ]
          },
          "metadata": {
            "tags": []
          },
          "execution_count": 88
        }
      ]
    },
    {
      "cell_type": "code",
      "metadata": {
        "id": "9m-04vmXpzDe",
        "colab": {
          "base_uri": "https://localhost:8080/"
        },
        "outputId": "b2bef5f4-6a36-44c4-9b1d-198da64d79b4"
      },
      "source": [
        "sum(data_test.Label==prediction_labels)/len(prediction_labels)"
      ],
      "execution_count": 89,
      "outputs": [
        {
          "output_type": "execute_result",
          "data": {
            "text/plain": [
              "0.9049202127659575"
            ]
          },
          "metadata": {
            "tags": []
          },
          "execution_count": 89
        }
      ]
    },
    {
      "cell_type": "code",
      "metadata": {
        "id": "lBoTVeG4FQC0",
        "colab": {
          "base_uri": "https://localhost:8080/"
        },
        "outputId": "b18c40e2-2f58-4b4a-9d52-5943b996a0b6"
      },
      "source": [
        "print(classification_report(data_test.Label, prediction_labels))"
      ],
      "execution_count": 90,
      "outputs": [
        {
          "output_type": "stream",
          "text": [
            "              precision    recall  f1-score   support\n",
            "\n",
            "           0       0.88      0.91      0.89       655\n",
            "           1       0.93      0.90      0.91       849\n",
            "\n",
            "    accuracy                           0.90      1504\n",
            "   macro avg       0.90      0.91      0.90      1504\n",
            "weighted avg       0.91      0.90      0.91      1504\n",
            "\n"
          ],
          "name": "stdout"
        }
      ]
    },
    {
      "cell_type": "code",
      "metadata": {
        "id": "sMUaXqFlFQNB",
        "colab": {
          "base_uri": "https://localhost:8080/"
        },
        "outputId": "6446abc0-1010-4986-e0e5-56633a2d15da"
      },
      "source": [
        "print(accuracy_score(data_test.Label, prediction_labels))\n",
        "print(precision_score(data_test.Label, prediction_labels))\n",
        "print(recall_score(data_test.Label, prediction_labels))\n",
        "print(f1_score(data_test.Label, prediction_labels))"
      ],
      "execution_count": 91,
      "outputs": [
        {
          "output_type": "stream",
          "text": [
            "0.9049202127659575\n",
            "0.9294403892944039\n",
            "0.8998822143698468\n",
            "0.91442250149611\n"
          ],
          "name": "stdout"
        }
      ]
    },
    {
      "cell_type": "code",
      "metadata": {
        "id": "BGUB-l-pzE9p",
        "colab": {
          "base_uri": "https://localhost:8080/"
        },
        "outputId": "79a24f1c-4568-45ab-c13b-e59e39cab730"
      },
      "source": [
        "confusion_matrix(data_test.Label,prediction_labels)"
      ],
      "execution_count": 92,
      "outputs": [
        {
          "output_type": "execute_result",
          "data": {
            "text/plain": [
              "array([[597,  58],\n",
              "       [ 85, 764]])"
            ]
          },
          "metadata": {
            "tags": []
          },
          "execution_count": 92
        }
      ]
    },
    {
      "cell_type": "code",
      "metadata": {
        "id": "UFeXJqbepRe2",
        "colab": {
          "base_uri": "https://localhost:8080/"
        },
        "outputId": "823b0381-bbc9-42ef-d45e-085a0ff380a0"
      },
      "source": [
        "data_test['prediction_label'] = prediction_labels"
      ],
      "execution_count": 93,
      "outputs": [
        {
          "output_type": "stream",
          "text": [
            "/usr/local/lib/python3.6/dist-packages/ipykernel_launcher.py:1: SettingWithCopyWarning: \n",
            "A value is trying to be set on a copy of a slice from a DataFrame.\n",
            "Try using .loc[row_indexer,col_indexer] = value instead\n",
            "\n",
            "See the caveats in the documentation: https://pandas.pydata.org/pandas-docs/stable/user_guide/indexing.html#returning-a-view-versus-a-copy\n",
            "  \"\"\"Entry point for launching an IPython kernel.\n"
          ],
          "name": "stderr"
        }
      ]
    },
    {
      "cell_type": "code",
      "metadata": {
        "id": "CN42EvrTfGqZ"
      },
      "source": [
        "#data_test.head(15)"
      ],
      "execution_count": 94,
      "outputs": []
    },
    {
      "cell_type": "code",
      "metadata": {
        "id": "6X384_kTsbH8",
        "colab": {
          "base_uri": "https://localhost:8080/"
        },
        "outputId": "593856c4-4d2b-44d0-d636-072d06e7203a"
      },
      "source": [
        "data_test.Label.value_counts()"
      ],
      "execution_count": 95,
      "outputs": [
        {
          "output_type": "execute_result",
          "data": {
            "text/plain": [
              "1    849\n",
              "0    655\n",
              "Name: Label, dtype: int64"
            ]
          },
          "metadata": {
            "tags": []
          },
          "execution_count": 95
        }
      ]
    },
    {
      "cell_type": "code",
      "metadata": {
        "id": "s3bGB1EasbUP",
        "colab": {
          "base_uri": "https://localhost:8080/"
        },
        "outputId": "43ec8389-efd1-436b-b173-65cd504f6c02"
      },
      "source": [
        "data_test.prediction_label.value_counts()"
      ],
      "execution_count": 96,
      "outputs": [
        {
          "output_type": "execute_result",
          "data": {
            "text/plain": [
              "1    822\n",
              "0    682\n",
              "Name: prediction_label, dtype: int64"
            ]
          },
          "metadata": {
            "tags": []
          },
          "execution_count": 96
        }
      ]
    },
    {
      "cell_type": "code",
      "metadata": {
        "id": "qPZfg2VWsbZ1"
      },
      "source": [
        "from sklearn.metrics import roc_curve\n",
        "fpr_keras, tpr_keras, thresholds_keras = roc_curve(data_test['Label'].tolist(), prediction_labels)"
      ],
      "execution_count": 97,
      "outputs": []
    },
    {
      "cell_type": "code",
      "metadata": {
        "id": "XicWHjyxqgjx",
        "colab": {
          "base_uri": "https://localhost:8080/",
          "height": 142
        },
        "outputId": "b74a57c7-f387-432b-eceb-d30471f237d6"
      },
      "source": [
        "ROC_CNN_df = pd.DataFrame()\n",
        "ROC_CNN_df['FPR'] = fpr_keras\n",
        "ROC_CNN_df['TPR'] = tpr_keras\n",
        "ROC_CNN_df.head()"
      ],
      "execution_count": 98,
      "outputs": [
        {
          "output_type": "execute_result",
          "data": {
            "text/html": [
              "<div>\n",
              "<style scoped>\n",
              "    .dataframe tbody tr th:only-of-type {\n",
              "        vertical-align: middle;\n",
              "    }\n",
              "\n",
              "    .dataframe tbody tr th {\n",
              "        vertical-align: top;\n",
              "    }\n",
              "\n",
              "    .dataframe thead th {\n",
              "        text-align: right;\n",
              "    }\n",
              "</style>\n",
              "<table border=\"1\" class=\"dataframe\">\n",
              "  <thead>\n",
              "    <tr style=\"text-align: right;\">\n",
              "      <th></th>\n",
              "      <th>FPR</th>\n",
              "      <th>TPR</th>\n",
              "    </tr>\n",
              "  </thead>\n",
              "  <tbody>\n",
              "    <tr>\n",
              "      <th>0</th>\n",
              "      <td>0.00000</td>\n",
              "      <td>0.000000</td>\n",
              "    </tr>\n",
              "    <tr>\n",
              "      <th>1</th>\n",
              "      <td>0.08855</td>\n",
              "      <td>0.899882</td>\n",
              "    </tr>\n",
              "    <tr>\n",
              "      <th>2</th>\n",
              "      <td>1.00000</td>\n",
              "      <td>1.000000</td>\n",
              "    </tr>\n",
              "  </tbody>\n",
              "</table>\n",
              "</div>"
            ],
            "text/plain": [
              "       FPR       TPR\n",
              "0  0.00000  0.000000\n",
              "1  0.08855  0.899882\n",
              "2  1.00000  1.000000"
            ]
          },
          "metadata": {
            "tags": []
          },
          "execution_count": 98
        }
      ]
    },
    {
      "cell_type": "code",
      "metadata": {
        "id": "EarYKYZqri16"
      },
      "source": [
        "#ROC_CNN_df.to_csv(\"ROC_CNN_df.csv\")"
      ],
      "execution_count": 99,
      "outputs": []
    },
    {
      "cell_type": "code",
      "metadata": {
        "id": "aCE2VJAlgsgw"
      },
      "source": [
        "import matplotlib.pyplot as plt"
      ],
      "execution_count": 100,
      "outputs": []
    },
    {
      "cell_type": "code",
      "metadata": {
        "id": "aK7oNR6AsbRW",
        "colab": {
          "base_uri": "https://localhost:8080/",
          "height": 295
        },
        "outputId": "ffcb1632-d657-43dd-a63e-6d6673bf2582"
      },
      "source": [
        "# Plot the ROC curve\n",
        "plt.figure(2)\n",
        "plt.plot(fpr_keras, tpr_keras, color='green',\n",
        "         lw=2, label='CNN')\n",
        "plt.plot([0, 1], [0, 1], color='navy', lw=2, linestyle='--', label=\"Mean\")\n",
        "plt.xlim([-0.01, 1.0])\n",
        "plt.ylim([0.0, 1.01])\n",
        "plt.xlabel('False Positive Rate')\n",
        "plt.ylabel('True Positive Rate')\n",
        "plt.title(\"ROC curve\")\n",
        "plt.legend(loc=\"best\")\n",
        "plt.show()"
      ],
      "execution_count": 101,
      "outputs": [
        {
          "output_type": "display_data",
          "data": {
            "image/png": "[encoded data removed]",
            "text/plain": [
              "<Figure size 432x288 with 1 Axes>"
            ]
          },
          "metadata": {
            "tags": [],
            "needs_background": "light"
          }
        }
      ]
    },
    {
      "cell_type": "code",
      "metadata": {
        "id": "pazTN1XtsbOK"
      },
      "source": [
        "from sklearn.metrics import auc\n",
        "auc_keras = auc(fpr_keras, tpr_keras)"
      ],
      "execution_count": 102,
      "outputs": []
    },
    {
      "cell_type": "code",
      "metadata": {
        "id": "SuLKZGyCsbMD",
        "colab": {
          "base_uri": "https://localhost:8080/"
        },
        "outputId": "bbf05bb1-6fdf-4dd3-bb15-e9641ae95015"
      },
      "source": [
        "auc_keras"
      ],
      "execution_count": 103,
      "outputs": [
        {
          "output_type": "execute_result",
          "data": {
            "text/plain": [
              "0.9056662980246181"
            ]
          },
          "metadata": {
            "tags": []
          },
          "execution_count": 103
        }
      ]
    },
    {
      "cell_type": "code",
      "metadata": {
        "id": "4N4NlIpQmJrr"
      },
      "source": [
        ""
      ],
      "execution_count": null,
      "outputs": []
    }
  ]
}